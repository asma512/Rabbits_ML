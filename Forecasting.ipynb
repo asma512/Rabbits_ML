{
 "cells": [
  {
   "cell_type": "markdown",
   "metadata": {},
   "source": [
    "#### Nahin Imtiaz\n",
    "#### Homework 3"
   ]
  },
  {
   "cell_type": "markdown",
   "metadata": {},
   "source": [
    "## Executive Summary\n",
    "In this homework, I worked with ASSISTments dataset (RQ1, the non-skill builder dataset) to predict student performance. To be specific, we tried to predict whether a student will be able to correctly answer (0,1) a problem or not based on previous data about the problem such as the type of the problem, opportunity to practice that problem, amount of hints used, operlap time etc. In my initial exploratory data analization, I found out that there is a negative correlation between 'opportunity' and overlap time. As opportunity to practice a problem increases, it takes less overtime for a student to solve it.I also found out that the dataset has a very small portion of 'choose_n' and 'rank' type problem rows. This can make our model biased if we use this feature and we will not be able to correctly predict data that has 'choose_n' and 'rank' type problem in them.So I emitted this column for our model training.\n",
    "\n",
    "I have used 4 different models- LogisticRegression, RandomForestClassifier, Neural Network ,and LSTM. I found out that the RandomForest model has the highest roc_auc score among all of them. I noticed that LSTM model had a high accuracy for testing datasets and low accuracy for training datasets which is surprising because usually we expect the model to have a lower accuracy when we test with test data.\n",
    "\n",
    "Overall, these models can be used in predicting future performaces for a student and can help improve specific parts of their study style ie. having more opportunity to practice may increase their chances of getting a problem correct."
   ]
  },
  {
   "cell_type": "code",
   "execution_count": 1,
   "metadata": {},
   "outputs": [
    {
     "data": {
      "text/html": [
       "<div>\n",
       "<style scoped>\n",
       "    .dataframe tbody tr th:only-of-type {\n",
       "        vertical-align: middle;\n",
       "    }\n",
       "\n",
       "    .dataframe tbody tr th {\n",
       "        vertical-align: top;\n",
       "    }\n",
       "\n",
       "    .dataframe thead th {\n",
       "        text-align: right;\n",
       "    }\n",
       "</style>\n",
       "<table border=\"1\" class=\"dataframe\">\n",
       "  <thead>\n",
       "    <tr style=\"text-align: right;\">\n",
       "      <th></th>\n",
       "      <th>order_id</th>\n",
       "      <th>assignment_id</th>\n",
       "      <th>user_id</th>\n",
       "      <th>assistment_id</th>\n",
       "      <th>problem_id</th>\n",
       "      <th>original</th>\n",
       "      <th>correct</th>\n",
       "      <th>attempt_count</th>\n",
       "      <th>ms_first_response</th>\n",
       "      <th>tutor_mode</th>\n",
       "      <th>...</th>\n",
       "      <th>hint_count</th>\n",
       "      <th>hint_total</th>\n",
       "      <th>overlap_time</th>\n",
       "      <th>template_id</th>\n",
       "      <th>answer_id</th>\n",
       "      <th>answer_text</th>\n",
       "      <th>first_action</th>\n",
       "      <th>bottom_hint</th>\n",
       "      <th>opportunity</th>\n",
       "      <th>opportunity_original</th>\n",
       "    </tr>\n",
       "  </thead>\n",
       "  <tbody>\n",
       "    <tr>\n",
       "      <th>0</th>\n",
       "      <td>20223588</td>\n",
       "      <td>245748</td>\n",
       "      <td>77759</td>\n",
       "      <td>12914</td>\n",
       "      <td>12914</td>\n",
       "      <td>1</td>\n",
       "      <td>1.0</td>\n",
       "      <td>1</td>\n",
       "      <td>57310.0</td>\n",
       "      <td>tutor</td>\n",
       "      <td>...</td>\n",
       "      <td>0</td>\n",
       "      <td>0</td>\n",
       "      <td>57310</td>\n",
       "      <td>12914</td>\n",
       "      <td>20935.0</td>\n",
       "      <td>NaN</td>\n",
       "      <td>0.0</td>\n",
       "      <td>NaN</td>\n",
       "      <td>1</td>\n",
       "      <td>1</td>\n",
       "    </tr>\n",
       "    <tr>\n",
       "      <th>1</th>\n",
       "      <td>20223595</td>\n",
       "      <td>245748</td>\n",
       "      <td>77759</td>\n",
       "      <td>15320</td>\n",
       "      <td>15320</td>\n",
       "      <td>1</td>\n",
       "      <td>1.0</td>\n",
       "      <td>1</td>\n",
       "      <td>88691.0</td>\n",
       "      <td>tutor</td>\n",
       "      <td>...</td>\n",
       "      <td>0</td>\n",
       "      <td>0</td>\n",
       "      <td>88691</td>\n",
       "      <td>15320</td>\n",
       "      <td>22385.0</td>\n",
       "      <td>NaN</td>\n",
       "      <td>0.0</td>\n",
       "      <td>NaN</td>\n",
       "      <td>2</td>\n",
       "      <td>2</td>\n",
       "    </tr>\n",
       "    <tr>\n",
       "      <th>2</th>\n",
       "      <td>20223601</td>\n",
       "      <td>245748</td>\n",
       "      <td>77759</td>\n",
       "      <td>14529</td>\n",
       "      <td>14529</td>\n",
       "      <td>1</td>\n",
       "      <td>1.0</td>\n",
       "      <td>1</td>\n",
       "      <td>43748.0</td>\n",
       "      <td>tutor</td>\n",
       "      <td>...</td>\n",
       "      <td>0</td>\n",
       "      <td>0</td>\n",
       "      <td>43748</td>\n",
       "      <td>14529</td>\n",
       "      <td>20735.0</td>\n",
       "      <td>NaN</td>\n",
       "      <td>0.0</td>\n",
       "      <td>NaN</td>\n",
       "      <td>3</td>\n",
       "      <td>3</td>\n",
       "    </tr>\n",
       "    <tr>\n",
       "      <th>3</th>\n",
       "      <td>20223926</td>\n",
       "      <td>245698</td>\n",
       "      <td>77912</td>\n",
       "      <td>1159</td>\n",
       "      <td>1159</td>\n",
       "      <td>1</td>\n",
       "      <td>0.0</td>\n",
       "      <td>2</td>\n",
       "      <td>45587.0</td>\n",
       "      <td>tutor</td>\n",
       "      <td>...</td>\n",
       "      <td>0</td>\n",
       "      <td>0</td>\n",
       "      <td>53599</td>\n",
       "      <td>1159</td>\n",
       "      <td>NaN</td>\n",
       "      <td>3</td>\n",
       "      <td>0.0</td>\n",
       "      <td>NaN</td>\n",
       "      <td>1</td>\n",
       "      <td>1</td>\n",
       "    </tr>\n",
       "    <tr>\n",
       "      <th>4</th>\n",
       "      <td>20223934</td>\n",
       "      <td>245698</td>\n",
       "      <td>77912</td>\n",
       "      <td>1647</td>\n",
       "      <td>1647</td>\n",
       "      <td>1</td>\n",
       "      <td>1.0</td>\n",
       "      <td>1</td>\n",
       "      <td>90176.0</td>\n",
       "      <td>tutor</td>\n",
       "      <td>...</td>\n",
       "      <td>0</td>\n",
       "      <td>0</td>\n",
       "      <td>90176</td>\n",
       "      <td>1647</td>\n",
       "      <td>3438.0</td>\n",
       "      <td>NaN</td>\n",
       "      <td>0.0</td>\n",
       "      <td>NaN</td>\n",
       "      <td>1</td>\n",
       "      <td>1</td>\n",
       "    </tr>\n",
       "  </tbody>\n",
       "</table>\n",
       "<p>5 rows × 30 columns</p>\n",
       "</div>"
      ],
      "text/plain": [
       "   order_id  assignment_id  user_id  assistment_id  problem_id  original  \\\n",
       "0  20223588         245748    77759          12914       12914         1   \n",
       "1  20223595         245748    77759          15320       15320         1   \n",
       "2  20223601         245748    77759          14529       14529         1   \n",
       "3  20223926         245698    77912           1159        1159         1   \n",
       "4  20223934         245698    77912           1647        1647         1   \n",
       "\n",
       "   correct  attempt_count  ms_first_response tutor_mode  ... hint_count  \\\n",
       "0      1.0              1            57310.0      tutor  ...          0   \n",
       "1      1.0              1            88691.0      tutor  ...          0   \n",
       "2      1.0              1            43748.0      tutor  ...          0   \n",
       "3      0.0              2            45587.0      tutor  ...          0   \n",
       "4      1.0              1            90176.0      tutor  ...          0   \n",
       "\n",
       "   hint_total  overlap_time  template_id answer_id  answer_text first_action  \\\n",
       "0           0         57310        12914   20935.0          NaN          0.0   \n",
       "1           0         88691        15320   22385.0          NaN          0.0   \n",
       "2           0         43748        14529   20735.0          NaN          0.0   \n",
       "3           0         53599         1159       NaN            3          0.0   \n",
       "4           0         90176         1647    3438.0          NaN          0.0   \n",
       "\n",
       "  bottom_hint  opportunity  opportunity_original  \n",
       "0         NaN            1                     1  \n",
       "1         NaN            2                     2  \n",
       "2         NaN            3                     3  \n",
       "3         NaN            1                     1  \n",
       "4         NaN            1                     1  \n",
       "\n",
       "[5 rows x 30 columns]"
      ]
     },
     "execution_count": 1,
     "metadata": {},
     "output_type": "execute_result"
    }
   ],
   "source": [
    "import pandas as pd\n",
    "\n",
    "df = pd.read_csv('non_skill_builder_data_new.zip')\n",
    "df.head()"
   ]
  },
  {
   "cell_type": "markdown",
   "metadata": {},
   "source": [
    "## Data Exploration"
   ]
  },
  {
   "cell_type": "code",
   "execution_count": 2,
   "metadata": {},
   "outputs": [
    {
     "data": {
      "text/plain": [
       "Index(['order_id', 'assignment_id', 'user_id', 'assistment_id', 'problem_id',\n",
       "       'original', 'correct', 'attempt_count', 'ms_first_response',\n",
       "       'tutor_mode', 'answer_type', 'sequence_id', 'student_class_id',\n",
       "       'position', 'type', 'base_sequence_id', 'skill_id', 'skill_name',\n",
       "       'teacher_id', 'school_id', 'hint_count', 'hint_total', 'overlap_time',\n",
       "       'template_id', 'answer_id', 'answer_text', 'first_action',\n",
       "       'bottom_hint', 'opportunity', 'opportunity_original'],\n",
       "      dtype='object')"
      ]
     },
     "execution_count": 2,
     "metadata": {},
     "output_type": "execute_result"
    }
   ],
   "source": [
    "df.columns"
   ]
  },
  {
   "cell_type": "code",
   "execution_count": 3,
   "metadata": {},
   "outputs": [
    {
     "data": {
      "text/plain": [
       "order_id                  int64\n",
       "assignment_id             int64\n",
       "user_id                   int64\n",
       "assistment_id             int64\n",
       "problem_id                int64\n",
       "original                  int64\n",
       "correct                 float64\n",
       "attempt_count             int64\n",
       "ms_first_response       float64\n",
       "tutor_mode               object\n",
       "answer_type              object\n",
       "sequence_id               int64\n",
       "student_class_id          int64\n",
       "position                  int64\n",
       "type                     object\n",
       "base_sequence_id          int64\n",
       "skill_id                 object\n",
       "skill_name               object\n",
       "teacher_id                int64\n",
       "school_id                 int64\n",
       "hint_count                int64\n",
       "hint_total                int64\n",
       "overlap_time              int64\n",
       "template_id               int64\n",
       "answer_id               float64\n",
       "answer_text              object\n",
       "first_action            float64\n",
       "bottom_hint             float64\n",
       "opportunity              object\n",
       "opportunity_original     object\n",
       "dtype: object"
      ]
     },
     "execution_count": 3,
     "metadata": {},
     "output_type": "execute_result"
    }
   ],
   "source": [
    "df.dtypes"
   ]
  },
  {
   "cell_type": "markdown",
   "metadata": {},
   "source": [
    "##### Since our dataset has some categorical features, we will turn them into numerical values so we can use these features in our model training."
   ]
  },
  {
   "cell_type": "markdown",
   "metadata": {},
   "source": [
    "I have created three numeric features from three categorical features. I am not sure if they count as new features or not. Since features have to be \"non-trivial\", I cannot aggregate a column and make a new feature from it since, it already has the information in it and the features are connected."
   ]
  },
  {
   "cell_type": "code",
   "execution_count": 4,
   "metadata": {},
   "outputs": [
    {
     "data": {
      "text/html": [
       "<div>\n",
       "<style scoped>\n",
       "    .dataframe tbody tr th:only-of-type {\n",
       "        vertical-align: middle;\n",
       "    }\n",
       "\n",
       "    .dataframe tbody tr th {\n",
       "        vertical-align: top;\n",
       "    }\n",
       "\n",
       "    .dataframe thead th {\n",
       "        text-align: right;\n",
       "    }\n",
       "</style>\n",
       "<table border=\"1\" class=\"dataframe\">\n",
       "  <thead>\n",
       "    <tr style=\"text-align: right;\">\n",
       "      <th></th>\n",
       "      <th>order_id</th>\n",
       "      <th>assignment_id</th>\n",
       "      <th>user_id</th>\n",
       "      <th>assistment_id</th>\n",
       "      <th>problem_id</th>\n",
       "      <th>original</th>\n",
       "      <th>correct</th>\n",
       "      <th>attempt_count</th>\n",
       "      <th>ms_first_response</th>\n",
       "      <th>tutor_mode</th>\n",
       "      <th>...</th>\n",
       "      <th>template_id</th>\n",
       "      <th>answer_id</th>\n",
       "      <th>answer_text</th>\n",
       "      <th>first_action</th>\n",
       "      <th>bottom_hint</th>\n",
       "      <th>opportunity</th>\n",
       "      <th>opportunity_original</th>\n",
       "      <th>tutor_mode_cat</th>\n",
       "      <th>answer_type_cat</th>\n",
       "      <th>type_cat</th>\n",
       "    </tr>\n",
       "  </thead>\n",
       "  <tbody>\n",
       "    <tr>\n",
       "      <th>0</th>\n",
       "      <td>20223588</td>\n",
       "      <td>245748</td>\n",
       "      <td>77759</td>\n",
       "      <td>12914</td>\n",
       "      <td>12914</td>\n",
       "      <td>1</td>\n",
       "      <td>1.0</td>\n",
       "      <td>1</td>\n",
       "      <td>57310.0</td>\n",
       "      <td>tutor</td>\n",
       "      <td>...</td>\n",
       "      <td>12914</td>\n",
       "      <td>20935.0</td>\n",
       "      <td>NaN</td>\n",
       "      <td>0.0</td>\n",
       "      <td>NaN</td>\n",
       "      <td>1</td>\n",
       "      <td>1</td>\n",
       "      <td>3.0</td>\n",
       "      <td>1.0</td>\n",
       "      <td>1.0</td>\n",
       "    </tr>\n",
       "    <tr>\n",
       "      <th>1</th>\n",
       "      <td>20223595</td>\n",
       "      <td>245748</td>\n",
       "      <td>77759</td>\n",
       "      <td>15320</td>\n",
       "      <td>15320</td>\n",
       "      <td>1</td>\n",
       "      <td>1.0</td>\n",
       "      <td>1</td>\n",
       "      <td>88691.0</td>\n",
       "      <td>tutor</td>\n",
       "      <td>...</td>\n",
       "      <td>15320</td>\n",
       "      <td>22385.0</td>\n",
       "      <td>NaN</td>\n",
       "      <td>0.0</td>\n",
       "      <td>NaN</td>\n",
       "      <td>2</td>\n",
       "      <td>2</td>\n",
       "      <td>3.0</td>\n",
       "      <td>1.0</td>\n",
       "      <td>1.0</td>\n",
       "    </tr>\n",
       "    <tr>\n",
       "      <th>2</th>\n",
       "      <td>20223601</td>\n",
       "      <td>245748</td>\n",
       "      <td>77759</td>\n",
       "      <td>14529</td>\n",
       "      <td>14529</td>\n",
       "      <td>1</td>\n",
       "      <td>1.0</td>\n",
       "      <td>1</td>\n",
       "      <td>43748.0</td>\n",
       "      <td>tutor</td>\n",
       "      <td>...</td>\n",
       "      <td>14529</td>\n",
       "      <td>20735.0</td>\n",
       "      <td>NaN</td>\n",
       "      <td>0.0</td>\n",
       "      <td>NaN</td>\n",
       "      <td>3</td>\n",
       "      <td>3</td>\n",
       "      <td>3.0</td>\n",
       "      <td>1.0</td>\n",
       "      <td>1.0</td>\n",
       "    </tr>\n",
       "    <tr>\n",
       "      <th>3</th>\n",
       "      <td>20223926</td>\n",
       "      <td>245698</td>\n",
       "      <td>77912</td>\n",
       "      <td>1159</td>\n",
       "      <td>1159</td>\n",
       "      <td>1</td>\n",
       "      <td>0.0</td>\n",
       "      <td>2</td>\n",
       "      <td>45587.0</td>\n",
       "      <td>tutor</td>\n",
       "      <td>...</td>\n",
       "      <td>1159</td>\n",
       "      <td>NaN</td>\n",
       "      <td>3</td>\n",
       "      <td>0.0</td>\n",
       "      <td>NaN</td>\n",
       "      <td>1</td>\n",
       "      <td>1</td>\n",
       "      <td>3.0</td>\n",
       "      <td>0.0</td>\n",
       "      <td>4.0</td>\n",
       "    </tr>\n",
       "    <tr>\n",
       "      <th>4</th>\n",
       "      <td>20223934</td>\n",
       "      <td>245698</td>\n",
       "      <td>77912</td>\n",
       "      <td>1647</td>\n",
       "      <td>1647</td>\n",
       "      <td>1</td>\n",
       "      <td>1.0</td>\n",
       "      <td>1</td>\n",
       "      <td>90176.0</td>\n",
       "      <td>tutor</td>\n",
       "      <td>...</td>\n",
       "      <td>1647</td>\n",
       "      <td>3438.0</td>\n",
       "      <td>NaN</td>\n",
       "      <td>0.0</td>\n",
       "      <td>NaN</td>\n",
       "      <td>1</td>\n",
       "      <td>1</td>\n",
       "      <td>3.0</td>\n",
       "      <td>1.0</td>\n",
       "      <td>4.0</td>\n",
       "    </tr>\n",
       "  </tbody>\n",
       "</table>\n",
       "<p>5 rows × 33 columns</p>\n",
       "</div>"
      ],
      "text/plain": [
       "   order_id  assignment_id  user_id  assistment_id  problem_id  original  \\\n",
       "0  20223588         245748    77759          12914       12914         1   \n",
       "1  20223595         245748    77759          15320       15320         1   \n",
       "2  20223601         245748    77759          14529       14529         1   \n",
       "3  20223926         245698    77912           1159        1159         1   \n",
       "4  20223934         245698    77912           1647        1647         1   \n",
       "\n",
       "   correct  attempt_count  ms_first_response tutor_mode  ... template_id  \\\n",
       "0      1.0              1            57310.0      tutor  ...       12914   \n",
       "1      1.0              1            88691.0      tutor  ...       15320   \n",
       "2      1.0              1            43748.0      tutor  ...       14529   \n",
       "3      0.0              2            45587.0      tutor  ...        1159   \n",
       "4      1.0              1            90176.0      tutor  ...        1647   \n",
       "\n",
       "   answer_id  answer_text  first_action bottom_hint  opportunity  \\\n",
       "0    20935.0          NaN           0.0         NaN            1   \n",
       "1    22385.0          NaN           0.0         NaN            2   \n",
       "2    20735.0          NaN           0.0         NaN            3   \n",
       "3        NaN            3           0.0         NaN            1   \n",
       "4     3438.0          NaN           0.0         NaN            1   \n",
       "\n",
       "  opportunity_original tutor_mode_cat  answer_type_cat  type_cat  \n",
       "0                    1            3.0              1.0       1.0  \n",
       "1                    2            3.0              1.0       1.0  \n",
       "2                    3            3.0              1.0       1.0  \n",
       "3                    1            3.0              0.0       4.0  \n",
       "4                    1            3.0              1.0       4.0  \n",
       "\n",
       "[5 rows x 33 columns]"
      ]
     },
     "execution_count": 4,
     "metadata": {},
     "output_type": "execute_result"
    }
   ],
   "source": [
    "# Source - https://pbpython.com/categorical-encoding.html\n",
    "\n",
    "from sklearn.preprocessing import OrdinalEncoder\n",
    "ord_enc = OrdinalEncoder()\n",
    "df[\"tutor_mode_cat\"]= ord_enc.fit_transform(df[[\"tutor_mode\"]])\n",
    "df[\"answer_type_cat\"]= ord_enc.fit_transform(df[[\"answer_type\"]])\n",
    "df[\"type_cat\"]= ord_enc.fit_transform(df[[\"type\"]])\n",
    "df.head()"
   ]
  },
  {
   "cell_type": "markdown",
   "metadata": {},
   "source": [
    "Now we can take the important features and make a new dataframe. Note that we will drop some features if we find them unnecessary."
   ]
  },
  {
   "cell_type": "code",
   "execution_count": 5,
   "metadata": {},
   "outputs": [],
   "source": [
    "new_df = df[[\"order_id\",\"user_id\",\"problem_id\", \"original\", \"correct\", \"attempt_count\", \"ms_first_response\", \"tutor_mode_cat\", \"answer_type_cat\", \n",
    "             \"sequence_id\", \"position\", \"type_cat\", \"skill_id\", \"teacher_id\", \"school_id\",\"hint_count\", \n",
    "             \"hint_total\", \"overlap_time\", \"first_action\", \"bottom_hint\", \"opportunity\",\"opportunity_original\"]]"
   ]
  },
  {
   "cell_type": "markdown",
   "metadata": {},
   "source": [
    "We can see that some of the columns have strings consisting of numeric values seperated by comma. So now, we have to explode them and make new rows. Note that, the (i.e. skill_id, opportunity) are aslo related to each other. If a skill cell have 2 int values, the opportunity cell also have 2 values and so on."
   ]
  },
  {
   "cell_type": "code",
   "execution_count": 6,
   "metadata": {},
   "outputs": [],
   "source": [
    "# Source - https://stackoverflow.com/questions/12680754/split-explode-pandas-dataframe-string-entry-to-separate-rows\n",
    "new_df=(new_df.set_index([\"order_id\",\"user_id\",\"problem_id\", \"original\", \"correct\", \"attempt_count\", \"ms_first_response\", \"tutor_mode_cat\", \"answer_type_cat\", \n",
    "             \"sequence_id\", \"position\", \"type_cat\", \"teacher_id\", \"school_id\",\"hint_count\", \n",
    "             \"hint_total\", \"overlap_time\", \"first_action\", \"bottom_hint\"]) \n",
    "   .apply(lambda col: col.str.split(',').explode())\n",
    "   .reset_index()\n",
    "   .reindex(new_df.columns, axis=1))"
   ]
  },
  {
   "cell_type": "code",
   "execution_count": 9,
   "metadata": {},
   "outputs": [
    {
     "data": {
      "text/plain": [
       "815191"
      ]
     },
     "execution_count": 9,
     "metadata": {},
     "output_type": "execute_result"
    }
   ],
   "source": [
    "new_df.shape[0]"
   ]
  },
  {
   "cell_type": "markdown",
   "metadata": {},
   "source": [
    "We see that our dataset has growns as expected."
   ]
  },
  {
   "cell_type": "markdown",
   "metadata": {},
   "source": [
    "Now, we will create a lag feature 'lag (t-1)' on 'correct'. We will use 'user_id' and 'problem_id' to group them and perform a shift. After that we will get a new lag feature column that we will insert in our previous data."
   ]
  },
  {
   "cell_type": "code",
   "execution_count": 12,
   "metadata": {},
   "outputs": [
    {
     "data": {
      "text/html": [
       "<div>\n",
       "<style scoped>\n",
       "    .dataframe tbody tr th:only-of-type {\n",
       "        vertical-align: middle;\n",
       "    }\n",
       "\n",
       "    .dataframe tbody tr th {\n",
       "        vertical-align: top;\n",
       "    }\n",
       "\n",
       "    .dataframe thead th {\n",
       "        text-align: right;\n",
       "    }\n",
       "</style>\n",
       "<table border=\"1\" class=\"dataframe\">\n",
       "  <thead>\n",
       "    <tr style=\"text-align: right;\">\n",
       "      <th></th>\n",
       "      <th>order_id</th>\n",
       "      <th>user_id</th>\n",
       "      <th>problem_id</th>\n",
       "      <th>original</th>\n",
       "      <th>correct</th>\n",
       "      <th>attempt_count</th>\n",
       "      <th>ms_first_response</th>\n",
       "      <th>tutor_mode_cat</th>\n",
       "      <th>answer_type_cat</th>\n",
       "      <th>sequence_id</th>\n",
       "      <th>...</th>\n",
       "      <th>teacher_id</th>\n",
       "      <th>school_id</th>\n",
       "      <th>hint_count</th>\n",
       "      <th>hint_total</th>\n",
       "      <th>overlap_time</th>\n",
       "      <th>first_action</th>\n",
       "      <th>bottom_hint</th>\n",
       "      <th>opportunity</th>\n",
       "      <th>opportunity_original</th>\n",
       "      <th>lag (t-1)</th>\n",
       "    </tr>\n",
       "  </thead>\n",
       "  <tbody>\n",
       "    <tr>\n",
       "      <th>0</th>\n",
       "      <td>20223588</td>\n",
       "      <td>77759</td>\n",
       "      <td>12914</td>\n",
       "      <td>1</td>\n",
       "      <td>1.0</td>\n",
       "      <td>1</td>\n",
       "      <td>57310.0</td>\n",
       "      <td>3.0</td>\n",
       "      <td>1.0</td>\n",
       "      <td>5366</td>\n",
       "      <td>...</td>\n",
       "      <td>41451</td>\n",
       "      <td>3784</td>\n",
       "      <td>0</td>\n",
       "      <td>0</td>\n",
       "      <td>57310</td>\n",
       "      <td>0.0</td>\n",
       "      <td>NaN</td>\n",
       "      <td>1</td>\n",
       "      <td>1</td>\n",
       "      <td>NaN</td>\n",
       "    </tr>\n",
       "    <tr>\n",
       "      <th>1</th>\n",
       "      <td>20223595</td>\n",
       "      <td>77759</td>\n",
       "      <td>15320</td>\n",
       "      <td>1</td>\n",
       "      <td>1.0</td>\n",
       "      <td>1</td>\n",
       "      <td>88691.0</td>\n",
       "      <td>3.0</td>\n",
       "      <td>1.0</td>\n",
       "      <td>5366</td>\n",
       "      <td>...</td>\n",
       "      <td>41451</td>\n",
       "      <td>3784</td>\n",
       "      <td>0</td>\n",
       "      <td>0</td>\n",
       "      <td>88691</td>\n",
       "      <td>0.0</td>\n",
       "      <td>NaN</td>\n",
       "      <td>2</td>\n",
       "      <td>2</td>\n",
       "      <td>NaN</td>\n",
       "    </tr>\n",
       "    <tr>\n",
       "      <th>2</th>\n",
       "      <td>20223601</td>\n",
       "      <td>77759</td>\n",
       "      <td>14529</td>\n",
       "      <td>1</td>\n",
       "      <td>1.0</td>\n",
       "      <td>1</td>\n",
       "      <td>43748.0</td>\n",
       "      <td>3.0</td>\n",
       "      <td>1.0</td>\n",
       "      <td>5366</td>\n",
       "      <td>...</td>\n",
       "      <td>41451</td>\n",
       "      <td>3784</td>\n",
       "      <td>0</td>\n",
       "      <td>0</td>\n",
       "      <td>43748</td>\n",
       "      <td>0.0</td>\n",
       "      <td>NaN</td>\n",
       "      <td>3</td>\n",
       "      <td>3</td>\n",
       "      <td>NaN</td>\n",
       "    </tr>\n",
       "    <tr>\n",
       "      <th>3</th>\n",
       "      <td>20223926</td>\n",
       "      <td>77912</td>\n",
       "      <td>1159</td>\n",
       "      <td>1</td>\n",
       "      <td>0.0</td>\n",
       "      <td>2</td>\n",
       "      <td>45587.0</td>\n",
       "      <td>3.0</td>\n",
       "      <td>0.0</td>\n",
       "      <td>2655</td>\n",
       "      <td>...</td>\n",
       "      <td>41451</td>\n",
       "      <td>3784</td>\n",
       "      <td>0</td>\n",
       "      <td>0</td>\n",
       "      <td>53599</td>\n",
       "      <td>0.0</td>\n",
       "      <td>NaN</td>\n",
       "      <td>1</td>\n",
       "      <td>1</td>\n",
       "      <td>NaN</td>\n",
       "    </tr>\n",
       "    <tr>\n",
       "      <th>4</th>\n",
       "      <td>20223934</td>\n",
       "      <td>77912</td>\n",
       "      <td>1647</td>\n",
       "      <td>1</td>\n",
       "      <td>1.0</td>\n",
       "      <td>1</td>\n",
       "      <td>90176.0</td>\n",
       "      <td>3.0</td>\n",
       "      <td>1.0</td>\n",
       "      <td>2655</td>\n",
       "      <td>...</td>\n",
       "      <td>41451</td>\n",
       "      <td>3784</td>\n",
       "      <td>0</td>\n",
       "      <td>0</td>\n",
       "      <td>90176</td>\n",
       "      <td>0.0</td>\n",
       "      <td>NaN</td>\n",
       "      <td>1</td>\n",
       "      <td>1</td>\n",
       "      <td>NaN</td>\n",
       "    </tr>\n",
       "  </tbody>\n",
       "</table>\n",
       "<p>5 rows × 23 columns</p>\n",
       "</div>"
      ],
      "text/plain": [
       "   order_id  user_id  problem_id  original  correct  attempt_count  \\\n",
       "0  20223588    77759       12914         1      1.0              1   \n",
       "1  20223595    77759       15320         1      1.0              1   \n",
       "2  20223601    77759       14529         1      1.0              1   \n",
       "3  20223926    77912        1159         1      0.0              2   \n",
       "4  20223934    77912        1647         1      1.0              1   \n",
       "\n",
       "   ms_first_response  tutor_mode_cat  answer_type_cat  sequence_id  ...  \\\n",
       "0            57310.0             3.0              1.0         5366  ...   \n",
       "1            88691.0             3.0              1.0         5366  ...   \n",
       "2            43748.0             3.0              1.0         5366  ...   \n",
       "3            45587.0             3.0              0.0         2655  ...   \n",
       "4            90176.0             3.0              1.0         2655  ...   \n",
       "\n",
       "   teacher_id  school_id hint_count  hint_total  overlap_time  first_action  \\\n",
       "0       41451       3784          0           0         57310           0.0   \n",
       "1       41451       3784          0           0         88691           0.0   \n",
       "2       41451       3784          0           0         43748           0.0   \n",
       "3       41451       3784          0           0         53599           0.0   \n",
       "4       41451       3784          0           0         90176           0.0   \n",
       "\n",
       "   bottom_hint  opportunity  opportunity_original  lag (t-1)  \n",
       "0          NaN            1                     1        NaN  \n",
       "1          NaN            2                     2        NaN  \n",
       "2          NaN            3                     3        NaN  \n",
       "3          NaN            1                     1        NaN  \n",
       "4          NaN            1                     1        NaN  \n",
       "\n",
       "[5 rows x 23 columns]"
      ]
     },
     "execution_count": 12,
     "metadata": {},
     "output_type": "execute_result"
    }
   ],
   "source": [
    "temp_df= new_df[[\"order_id\",\"user_id\",\"problem_id\", \"correct\"]]\n",
    "\n",
    "temp_df = temp_df.sort_values([\"user_id\",\"problem_id\"])\n",
    "\n",
    "#Source for this line - https://stackoverflow.com/questions/53335567/use-pandas-shift-within-a-group\n",
    "temp_df['correct'] = temp_df['correct'].shift().where(temp_df.problem_id.eq(temp_df.problem_id.shift()))\n",
    "\n",
    "#temp_df[temp_df['correct'].isnull()==False]\n",
    "\n",
    "new_df[\"lag (t-1)\"]=temp_df['correct']\n",
    "new_df.head()"
   ]
  },
  {
   "cell_type": "markdown",
   "metadata": {},
   "source": [
    "#### Column : Skill_id"
   ]
  },
  {
   "cell_type": "code",
   "execution_count": 13,
   "metadata": {},
   "outputs": [
    {
     "data": {
      "text/plain": [
       "False"
      ]
     },
     "execution_count": 13,
     "metadata": {},
     "output_type": "execute_result"
    }
   ],
   "source": [
    "new_df['skill_id'].isnull().any()"
   ]
  },
  {
   "cell_type": "markdown",
   "metadata": {},
   "source": [
    "#### Column : type_cat"
   ]
  },
  {
   "cell_type": "code",
   "execution_count": 14,
   "metadata": {},
   "outputs": [
    {
     "data": {
      "text/plain": [
       "False"
      ]
     },
     "execution_count": 14,
     "metadata": {},
     "output_type": "execute_result"
    }
   ],
   "source": [
    "new_df['type_cat'].isnull().any()"
   ]
  },
  {
   "cell_type": "markdown",
   "metadata": {},
   "source": [
    "#### Column : overlap_time"
   ]
  },
  {
   "cell_type": "code",
   "execution_count": 15,
   "metadata": {},
   "outputs": [
    {
     "data": {
      "text/plain": [
       "False"
      ]
     },
     "execution_count": 15,
     "metadata": {},
     "output_type": "execute_result"
    }
   ],
   "source": [
    "new_df['overlap_time'].isnull().any()"
   ]
  },
  {
   "cell_type": "markdown",
   "metadata": {},
   "source": [
    "#### Column : first_action"
   ]
  },
  {
   "cell_type": "code",
   "execution_count": 16,
   "metadata": {},
   "outputs": [
    {
     "data": {
      "text/plain": [
       "True"
      ]
     },
     "execution_count": 16,
     "metadata": {},
     "output_type": "execute_result"
    }
   ],
   "source": [
    "new_df['first_action'].isnull().any()"
   ]
  },
  {
   "cell_type": "markdown",
   "metadata": {},
   "source": [
    "We have a null value in our column. Lets see how many rows have null values."
   ]
  },
  {
   "cell_type": "code",
   "execution_count": 17,
   "metadata": {},
   "outputs": [
    {
     "data": {
      "text/plain": [
       "order_id                47\n",
       "user_id                 47\n",
       "problem_id              47\n",
       "original                47\n",
       "correct                 47\n",
       "attempt_count           47\n",
       "ms_first_response        0\n",
       "tutor_mode_cat          47\n",
       "answer_type_cat         47\n",
       "sequence_id             47\n",
       "position                47\n",
       "type_cat                47\n",
       "skill_id                47\n",
       "teacher_id              47\n",
       "school_id               47\n",
       "hint_count              47\n",
       "hint_total              47\n",
       "overlap_time            47\n",
       "first_action             0\n",
       "bottom_hint              0\n",
       "opportunity             47\n",
       "opportunity_original    47\n",
       "lag (t-1)               39\n",
       "dtype: int64"
      ]
     },
     "execution_count": 17,
     "metadata": {},
     "output_type": "execute_result"
    }
   ],
   "source": [
    "new_df[new_df['first_action'].isna()].count()"
   ]
  },
  {
   "cell_type": "markdown",
   "metadata": {},
   "source": [
    "Small amount of rows have null values.So, we can simply drop the rows."
   ]
  },
  {
   "cell_type": "code",
   "execution_count": 21,
   "metadata": {},
   "outputs": [],
   "source": [
    "new_df = new_df[new_df['first_action'].notna()]"
   ]
  },
  {
   "cell_type": "markdown",
   "metadata": {},
   "source": [
    "#### Column : bottom_hint"
   ]
  },
  {
   "cell_type": "code",
   "execution_count": 22,
   "metadata": {},
   "outputs": [
    {
     "data": {
      "text/plain": [
       "True"
      ]
     },
     "execution_count": 22,
     "metadata": {},
     "output_type": "execute_result"
    }
   ],
   "source": [
    "new_df['bottom_hint'].isnull().any()"
   ]
  },
  {
   "cell_type": "markdown",
   "metadata": {},
   "source": [
    "We have a null value in our column. Lets see how many rows have null values."
   ]
  },
  {
   "cell_type": "code",
   "execution_count": 23,
   "metadata": {},
   "outputs": [
    {
     "data": {
      "text/plain": [
       "order_id                707013\n",
       "user_id                 707013\n",
       "problem_id              707013\n",
       "original                707013\n",
       "correct                 707013\n",
       "attempt_count           707013\n",
       "ms_first_response       707013\n",
       "tutor_mode_cat          707013\n",
       "answer_type_cat         707013\n",
       "sequence_id             707013\n",
       "position                707013\n",
       "type_cat                707013\n",
       "skill_id                707013\n",
       "teacher_id              707013\n",
       "school_id               707013\n",
       "hint_count              707013\n",
       "hint_total              707013\n",
       "overlap_time            707013\n",
       "first_action            707013\n",
       "bottom_hint                  0\n",
       "opportunity             707013\n",
       "opportunity_original    630614\n",
       "lag (t-1)               228364\n",
       "dtype: int64"
      ]
     },
     "execution_count": 23,
     "metadata": {},
     "output_type": "execute_result"
    }
   ],
   "source": [
    "new_df[new_df['bottom_hint'].isna()].count()"
   ]
  },
  {
   "cell_type": "markdown",
   "metadata": {},
   "source": [
    "Large amount (85%) of data is missing, so we cannot use this feature to train our model. So we will drop the entire column."
   ]
  },
  {
   "cell_type": "code",
   "execution_count": 24,
   "metadata": {},
   "outputs": [
    {
     "data": {
      "text/html": [
       "<div>\n",
       "<style scoped>\n",
       "    .dataframe tbody tr th:only-of-type {\n",
       "        vertical-align: middle;\n",
       "    }\n",
       "\n",
       "    .dataframe tbody tr th {\n",
       "        vertical-align: top;\n",
       "    }\n",
       "\n",
       "    .dataframe thead th {\n",
       "        text-align: right;\n",
       "    }\n",
       "</style>\n",
       "<table border=\"1\" class=\"dataframe\">\n",
       "  <thead>\n",
       "    <tr style=\"text-align: right;\">\n",
       "      <th></th>\n",
       "      <th>order_id</th>\n",
       "      <th>user_id</th>\n",
       "      <th>problem_id</th>\n",
       "      <th>original</th>\n",
       "      <th>correct</th>\n",
       "      <th>attempt_count</th>\n",
       "      <th>ms_first_response</th>\n",
       "      <th>tutor_mode_cat</th>\n",
       "      <th>answer_type_cat</th>\n",
       "      <th>sequence_id</th>\n",
       "      <th>...</th>\n",
       "      <th>skill_id</th>\n",
       "      <th>teacher_id</th>\n",
       "      <th>school_id</th>\n",
       "      <th>hint_count</th>\n",
       "      <th>hint_total</th>\n",
       "      <th>overlap_time</th>\n",
       "      <th>first_action</th>\n",
       "      <th>opportunity</th>\n",
       "      <th>opportunity_original</th>\n",
       "      <th>lag (t-1)</th>\n",
       "    </tr>\n",
       "  </thead>\n",
       "  <tbody>\n",
       "    <tr>\n",
       "      <th>0</th>\n",
       "      <td>20223588</td>\n",
       "      <td>77759</td>\n",
       "      <td>12914</td>\n",
       "      <td>1</td>\n",
       "      <td>1.0</td>\n",
       "      <td>1</td>\n",
       "      <td>57310.0</td>\n",
       "      <td>3.0</td>\n",
       "      <td>1.0</td>\n",
       "      <td>5366</td>\n",
       "      <td>...</td>\n",
       "      <td>231</td>\n",
       "      <td>41451</td>\n",
       "      <td>3784</td>\n",
       "      <td>0</td>\n",
       "      <td>0</td>\n",
       "      <td>57310</td>\n",
       "      <td>0.0</td>\n",
       "      <td>1</td>\n",
       "      <td>1</td>\n",
       "      <td>NaN</td>\n",
       "    </tr>\n",
       "    <tr>\n",
       "      <th>1</th>\n",
       "      <td>20223595</td>\n",
       "      <td>77759</td>\n",
       "      <td>15320</td>\n",
       "      <td>1</td>\n",
       "      <td>1.0</td>\n",
       "      <td>1</td>\n",
       "      <td>88691.0</td>\n",
       "      <td>3.0</td>\n",
       "      <td>1.0</td>\n",
       "      <td>5366</td>\n",
       "      <td>...</td>\n",
       "      <td>231</td>\n",
       "      <td>41451</td>\n",
       "      <td>3784</td>\n",
       "      <td>0</td>\n",
       "      <td>0</td>\n",
       "      <td>88691</td>\n",
       "      <td>0.0</td>\n",
       "      <td>2</td>\n",
       "      <td>2</td>\n",
       "      <td>NaN</td>\n",
       "    </tr>\n",
       "    <tr>\n",
       "      <th>2</th>\n",
       "      <td>20223601</td>\n",
       "      <td>77759</td>\n",
       "      <td>14529</td>\n",
       "      <td>1</td>\n",
       "      <td>1.0</td>\n",
       "      <td>1</td>\n",
       "      <td>43748.0</td>\n",
       "      <td>3.0</td>\n",
       "      <td>1.0</td>\n",
       "      <td>5366</td>\n",
       "      <td>...</td>\n",
       "      <td>231</td>\n",
       "      <td>41451</td>\n",
       "      <td>3784</td>\n",
       "      <td>0</td>\n",
       "      <td>0</td>\n",
       "      <td>43748</td>\n",
       "      <td>0.0</td>\n",
       "      <td>3</td>\n",
       "      <td>3</td>\n",
       "      <td>NaN</td>\n",
       "    </tr>\n",
       "    <tr>\n",
       "      <th>3</th>\n",
       "      <td>20223926</td>\n",
       "      <td>77912</td>\n",
       "      <td>1159</td>\n",
       "      <td>1</td>\n",
       "      <td>0.0</td>\n",
       "      <td>2</td>\n",
       "      <td>45587.0</td>\n",
       "      <td>3.0</td>\n",
       "      <td>0.0</td>\n",
       "      <td>2655</td>\n",
       "      <td>...</td>\n",
       "      <td>100</td>\n",
       "      <td>41451</td>\n",
       "      <td>3784</td>\n",
       "      <td>0</td>\n",
       "      <td>0</td>\n",
       "      <td>53599</td>\n",
       "      <td>0.0</td>\n",
       "      <td>1</td>\n",
       "      <td>1</td>\n",
       "      <td>NaN</td>\n",
       "    </tr>\n",
       "    <tr>\n",
       "      <th>4</th>\n",
       "      <td>20223934</td>\n",
       "      <td>77912</td>\n",
       "      <td>1647</td>\n",
       "      <td>1</td>\n",
       "      <td>1.0</td>\n",
       "      <td>1</td>\n",
       "      <td>90176.0</td>\n",
       "      <td>3.0</td>\n",
       "      <td>1.0</td>\n",
       "      <td>2655</td>\n",
       "      <td>...</td>\n",
       "      <td>93</td>\n",
       "      <td>41451</td>\n",
       "      <td>3784</td>\n",
       "      <td>0</td>\n",
       "      <td>0</td>\n",
       "      <td>90176</td>\n",
       "      <td>0.0</td>\n",
       "      <td>1</td>\n",
       "      <td>1</td>\n",
       "      <td>NaN</td>\n",
       "    </tr>\n",
       "  </tbody>\n",
       "</table>\n",
       "<p>5 rows × 22 columns</p>\n",
       "</div>"
      ],
      "text/plain": [
       "   order_id  user_id  problem_id  original  correct  attempt_count  \\\n",
       "0  20223588    77759       12914         1      1.0              1   \n",
       "1  20223595    77759       15320         1      1.0              1   \n",
       "2  20223601    77759       14529         1      1.0              1   \n",
       "3  20223926    77912        1159         1      0.0              2   \n",
       "4  20223934    77912        1647         1      1.0              1   \n",
       "\n",
       "   ms_first_response  tutor_mode_cat  answer_type_cat  sequence_id  ...  \\\n",
       "0            57310.0             3.0              1.0         5366  ...   \n",
       "1            88691.0             3.0              1.0         5366  ...   \n",
       "2            43748.0             3.0              1.0         5366  ...   \n",
       "3            45587.0             3.0              0.0         2655  ...   \n",
       "4            90176.0             3.0              1.0         2655  ...   \n",
       "\n",
       "   skill_id  teacher_id school_id  hint_count  hint_total  overlap_time  \\\n",
       "0       231       41451      3784           0           0         57310   \n",
       "1       231       41451      3784           0           0         88691   \n",
       "2       231       41451      3784           0           0         43748   \n",
       "3       100       41451      3784           0           0         53599   \n",
       "4        93       41451      3784           0           0         90176   \n",
       "\n",
       "   first_action  opportunity  opportunity_original lag (t-1)  \n",
       "0           0.0            1                     1       NaN  \n",
       "1           0.0            2                     2       NaN  \n",
       "2           0.0            3                     3       NaN  \n",
       "3           0.0            1                     1       NaN  \n",
       "4           0.0            1                     1       NaN  \n",
       "\n",
       "[5 rows x 22 columns]"
      ]
     },
     "execution_count": 24,
     "metadata": {},
     "output_type": "execute_result"
    }
   ],
   "source": [
    "del new_df['bottom_hint']\n",
    "new_df.head()"
   ]
  },
  {
   "cell_type": "markdown",
   "metadata": {},
   "source": [
    "#### Column : opportunity"
   ]
  },
  {
   "cell_type": "code",
   "execution_count": 25,
   "metadata": {},
   "outputs": [
    {
     "data": {
      "text/plain": [
       "False"
      ]
     },
     "execution_count": 25,
     "metadata": {},
     "output_type": "execute_result"
    }
   ],
   "source": [
    "new_df['opportunity'].isnull().any()"
   ]
  },
  {
   "cell_type": "markdown",
   "metadata": {},
   "source": [
    "#### Column : opportunity_original"
   ]
  },
  {
   "cell_type": "code",
   "execution_count": 26,
   "metadata": {},
   "outputs": [
    {
     "data": {
      "text/plain": [
       "True"
      ]
     },
     "execution_count": 26,
     "metadata": {},
     "output_type": "execute_result"
    }
   ],
   "source": [
    "new_df['opportunity_original'].isnull().any()"
   ]
  },
  {
   "cell_type": "markdown",
   "metadata": {},
   "source": [
    "We have a null value in our column. Lets see how many rows have null values."
   ]
  },
  {
   "cell_type": "code",
   "execution_count": 27,
   "metadata": {},
   "outputs": [
    {
     "data": {
      "text/plain": [
       "order_id                132846\n",
       "user_id                 132846\n",
       "problem_id              132846\n",
       "original                132846\n",
       "correct                 132846\n",
       "attempt_count           132846\n",
       "ms_first_response       132846\n",
       "tutor_mode_cat          132846\n",
       "answer_type_cat         132846\n",
       "sequence_id             132846\n",
       "position                132846\n",
       "type_cat                132846\n",
       "skill_id                132846\n",
       "teacher_id              132846\n",
       "school_id               132846\n",
       "hint_count              132846\n",
       "hint_total              132846\n",
       "overlap_time            132846\n",
       "first_action            132846\n",
       "opportunity             132846\n",
       "opportunity_original         0\n",
       "lag (t-1)                 9329\n",
       "dtype: int64"
      ]
     },
     "execution_count": 27,
     "metadata": {},
     "output_type": "execute_result"
    }
   ],
   "source": [
    "new_df[new_df['opportunity_original'].isna()].count()"
   ]
  },
  {
   "cell_type": "markdown",
   "metadata": {},
   "source": [
    "Fairly small amount (15%) of data is missing. We can fill them with 0 assuming opportunities to practice original problems are zero."
   ]
  },
  {
   "cell_type": "code",
   "execution_count": 28,
   "metadata": {},
   "outputs": [],
   "source": [
    "new_df.loc[new_df['opportunity_original'].isna(), 'opportunity_original'] = 0"
   ]
  },
  {
   "cell_type": "code",
   "execution_count": 29,
   "metadata": {},
   "outputs": [
    {
     "data": {
      "text/html": [
       "<div>\n",
       "<style scoped>\n",
       "    .dataframe tbody tr th:only-of-type {\n",
       "        vertical-align: middle;\n",
       "    }\n",
       "\n",
       "    .dataframe tbody tr th {\n",
       "        vertical-align: top;\n",
       "    }\n",
       "\n",
       "    .dataframe thead th {\n",
       "        text-align: right;\n",
       "    }\n",
       "</style>\n",
       "<table border=\"1\" class=\"dataframe\">\n",
       "  <thead>\n",
       "    <tr style=\"text-align: right;\">\n",
       "      <th></th>\n",
       "      <th>order_id</th>\n",
       "      <th>user_id</th>\n",
       "      <th>problem_id</th>\n",
       "      <th>original</th>\n",
       "      <th>correct</th>\n",
       "      <th>attempt_count</th>\n",
       "      <th>ms_first_response</th>\n",
       "      <th>tutor_mode_cat</th>\n",
       "      <th>answer_type_cat</th>\n",
       "      <th>sequence_id</th>\n",
       "      <th>...</th>\n",
       "      <th>skill_id</th>\n",
       "      <th>teacher_id</th>\n",
       "      <th>school_id</th>\n",
       "      <th>hint_count</th>\n",
       "      <th>hint_total</th>\n",
       "      <th>overlap_time</th>\n",
       "      <th>first_action</th>\n",
       "      <th>opportunity</th>\n",
       "      <th>opportunity_original</th>\n",
       "      <th>lag (t-1)</th>\n",
       "    </tr>\n",
       "  </thead>\n",
       "  <tbody>\n",
       "    <tr>\n",
       "      <th>27</th>\n",
       "      <td>20224133</td>\n",
       "      <td>77912</td>\n",
       "      <td>2713</td>\n",
       "      <td>0</td>\n",
       "      <td>0.0</td>\n",
       "      <td>2</td>\n",
       "      <td>12934.0</td>\n",
       "      <td>3.0</td>\n",
       "      <td>0.0</td>\n",
       "      <td>2653</td>\n",
       "      <td>...</td>\n",
       "      <td>98</td>\n",
       "      <td>41451</td>\n",
       "      <td>3784</td>\n",
       "      <td>1</td>\n",
       "      <td>2</td>\n",
       "      <td>194005</td>\n",
       "      <td>0.0</td>\n",
       "      <td>2</td>\n",
       "      <td></td>\n",
       "      <td>NaN</td>\n",
       "    </tr>\n",
       "    <tr>\n",
       "      <th>28</th>\n",
       "      <td>20224133</td>\n",
       "      <td>77912</td>\n",
       "      <td>2713</td>\n",
       "      <td>0</td>\n",
       "      <td>0.0</td>\n",
       "      <td>2</td>\n",
       "      <td>12934.0</td>\n",
       "      <td>3.0</td>\n",
       "      <td>0.0</td>\n",
       "      <td>2653</td>\n",
       "      <td>...</td>\n",
       "      <td>99</td>\n",
       "      <td>41451</td>\n",
       "      <td>3784</td>\n",
       "      <td>1</td>\n",
       "      <td>2</td>\n",
       "      <td>194005</td>\n",
       "      <td>0.0</td>\n",
       "      <td>4</td>\n",
       "      <td></td>\n",
       "      <td>0.0</td>\n",
       "    </tr>\n",
       "    <tr>\n",
       "      <th>29</th>\n",
       "      <td>20224139</td>\n",
       "      <td>77912</td>\n",
       "      <td>2714</td>\n",
       "      <td>0</td>\n",
       "      <td>1.0</td>\n",
       "      <td>1</td>\n",
       "      <td>12515.0</td>\n",
       "      <td>3.0</td>\n",
       "      <td>0.0</td>\n",
       "      <td>2653</td>\n",
       "      <td>...</td>\n",
       "      <td>98</td>\n",
       "      <td>41451</td>\n",
       "      <td>3784</td>\n",
       "      <td>0</td>\n",
       "      <td>3</td>\n",
       "      <td>12515</td>\n",
       "      <td>0.0</td>\n",
       "      <td>3</td>\n",
       "      <td></td>\n",
       "      <td>NaN</td>\n",
       "    </tr>\n",
       "    <tr>\n",
       "      <th>30</th>\n",
       "      <td>20224139</td>\n",
       "      <td>77912</td>\n",
       "      <td>2714</td>\n",
       "      <td>0</td>\n",
       "      <td>1.0</td>\n",
       "      <td>1</td>\n",
       "      <td>12515.0</td>\n",
       "      <td>3.0</td>\n",
       "      <td>0.0</td>\n",
       "      <td>2653</td>\n",
       "      <td>...</td>\n",
       "      <td>99</td>\n",
       "      <td>41451</td>\n",
       "      <td>3784</td>\n",
       "      <td>0</td>\n",
       "      <td>3</td>\n",
       "      <td>12515</td>\n",
       "      <td>0.0</td>\n",
       "      <td>5</td>\n",
       "      <td></td>\n",
       "      <td>1.0</td>\n",
       "    </tr>\n",
       "    <tr>\n",
       "      <th>31</th>\n",
       "      <td>20224145</td>\n",
       "      <td>77912</td>\n",
       "      <td>2715</td>\n",
       "      <td>0</td>\n",
       "      <td>0.0</td>\n",
       "      <td>2</td>\n",
       "      <td>25669.0</td>\n",
       "      <td>3.0</td>\n",
       "      <td>0.0</td>\n",
       "      <td>2653</td>\n",
       "      <td>...</td>\n",
       "      <td>98</td>\n",
       "      <td>41451</td>\n",
       "      <td>3784</td>\n",
       "      <td>0</td>\n",
       "      <td>4</td>\n",
       "      <td>44376</td>\n",
       "      <td>0.0</td>\n",
       "      <td>4</td>\n",
       "      <td></td>\n",
       "      <td>NaN</td>\n",
       "    </tr>\n",
       "    <tr>\n",
       "      <th>...</th>\n",
       "      <td>...</td>\n",
       "      <td>...</td>\n",
       "      <td>...</td>\n",
       "      <td>...</td>\n",
       "      <td>...</td>\n",
       "      <td>...</td>\n",
       "      <td>...</td>\n",
       "      <td>...</td>\n",
       "      <td>...</td>\n",
       "      <td>...</td>\n",
       "      <td>...</td>\n",
       "      <td>...</td>\n",
       "      <td>...</td>\n",
       "      <td>...</td>\n",
       "      <td>...</td>\n",
       "      <td>...</td>\n",
       "      <td>...</td>\n",
       "      <td>...</td>\n",
       "      <td>...</td>\n",
       "      <td>...</td>\n",
       "      <td>...</td>\n",
       "    </tr>\n",
       "    <tr>\n",
       "      <th>811277</th>\n",
       "      <td>38290952</td>\n",
       "      <td>96262</td>\n",
       "      <td>361</td>\n",
       "      <td>0</td>\n",
       "      <td>1.0</td>\n",
       "      <td>1</td>\n",
       "      <td>17619.0</td>\n",
       "      <td>3.0</td>\n",
       "      <td>0.0</td>\n",
       "      <td>12367</td>\n",
       "      <td>...</td>\n",
       "      <td>276</td>\n",
       "      <td>69274</td>\n",
       "      <td>2770</td>\n",
       "      <td>0</td>\n",
       "      <td>3</td>\n",
       "      <td>17619</td>\n",
       "      <td>0.0</td>\n",
       "      <td>5</td>\n",
       "      <td></td>\n",
       "      <td>1.0</td>\n",
       "    </tr>\n",
       "    <tr>\n",
       "      <th>813560</th>\n",
       "      <td>38302247</td>\n",
       "      <td>96276</td>\n",
       "      <td>4467</td>\n",
       "      <td>0</td>\n",
       "      <td>0.0</td>\n",
       "      <td>2</td>\n",
       "      <td>1483.0</td>\n",
       "      <td>3.0</td>\n",
       "      <td>0.0</td>\n",
       "      <td>12367</td>\n",
       "      <td>...</td>\n",
       "      <td>24</td>\n",
       "      <td>69274</td>\n",
       "      <td>2770</td>\n",
       "      <td>0</td>\n",
       "      <td>4</td>\n",
       "      <td>16694</td>\n",
       "      <td>0.0</td>\n",
       "      <td>2</td>\n",
       "      <td></td>\n",
       "      <td>NaN</td>\n",
       "    </tr>\n",
       "    <tr>\n",
       "      <th>813561</th>\n",
       "      <td>38302247</td>\n",
       "      <td>96276</td>\n",
       "      <td>4467</td>\n",
       "      <td>0</td>\n",
       "      <td>0.0</td>\n",
       "      <td>2</td>\n",
       "      <td>1483.0</td>\n",
       "      <td>3.0</td>\n",
       "      <td>0.0</td>\n",
       "      <td>12367</td>\n",
       "      <td>...</td>\n",
       "      <td>95</td>\n",
       "      <td>69274</td>\n",
       "      <td>2770</td>\n",
       "      <td>0</td>\n",
       "      <td>4</td>\n",
       "      <td>16694</td>\n",
       "      <td>0.0</td>\n",
       "      <td>5</td>\n",
       "      <td></td>\n",
       "      <td>0.0</td>\n",
       "    </tr>\n",
       "    <tr>\n",
       "      <th>813895</th>\n",
       "      <td>38304263</td>\n",
       "      <td>96239</td>\n",
       "      <td>4467</td>\n",
       "      <td>0</td>\n",
       "      <td>1.0</td>\n",
       "      <td>1</td>\n",
       "      <td>37898.0</td>\n",
       "      <td>3.0</td>\n",
       "      <td>0.0</td>\n",
       "      <td>12367</td>\n",
       "      <td>...</td>\n",
       "      <td>24</td>\n",
       "      <td>69274</td>\n",
       "      <td>2770</td>\n",
       "      <td>0</td>\n",
       "      <td>4</td>\n",
       "      <td>37898</td>\n",
       "      <td>0.0</td>\n",
       "      <td>4</td>\n",
       "      <td></td>\n",
       "      <td>NaN</td>\n",
       "    </tr>\n",
       "    <tr>\n",
       "      <th>813896</th>\n",
       "      <td>38304263</td>\n",
       "      <td>96239</td>\n",
       "      <td>4467</td>\n",
       "      <td>0</td>\n",
       "      <td>1.0</td>\n",
       "      <td>1</td>\n",
       "      <td>37898.0</td>\n",
       "      <td>3.0</td>\n",
       "      <td>0.0</td>\n",
       "      <td>12367</td>\n",
       "      <td>...</td>\n",
       "      <td>95</td>\n",
       "      <td>69274</td>\n",
       "      <td>2770</td>\n",
       "      <td>0</td>\n",
       "      <td>4</td>\n",
       "      <td>37898</td>\n",
       "      <td>0.0</td>\n",
       "      <td>7</td>\n",
       "      <td></td>\n",
       "      <td>1.0</td>\n",
       "    </tr>\n",
       "  </tbody>\n",
       "</table>\n",
       "<p>37785 rows × 22 columns</p>\n",
       "</div>"
      ],
      "text/plain": [
       "        order_id  user_id  problem_id  original  correct  attempt_count  \\\n",
       "27      20224133    77912        2713         0      0.0              2   \n",
       "28      20224133    77912        2713         0      0.0              2   \n",
       "29      20224139    77912        2714         0      1.0              1   \n",
       "30      20224139    77912        2714         0      1.0              1   \n",
       "31      20224145    77912        2715         0      0.0              2   \n",
       "...          ...      ...         ...       ...      ...            ...   \n",
       "811277  38290952    96262         361         0      1.0              1   \n",
       "813560  38302247    96276        4467         0      0.0              2   \n",
       "813561  38302247    96276        4467         0      0.0              2   \n",
       "813895  38304263    96239        4467         0      1.0              1   \n",
       "813896  38304263    96239        4467         0      1.0              1   \n",
       "\n",
       "        ms_first_response  tutor_mode_cat  answer_type_cat  sequence_id  ...  \\\n",
       "27                12934.0             3.0              0.0         2653  ...   \n",
       "28                12934.0             3.0              0.0         2653  ...   \n",
       "29                12515.0             3.0              0.0         2653  ...   \n",
       "30                12515.0             3.0              0.0         2653  ...   \n",
       "31                25669.0             3.0              0.0         2653  ...   \n",
       "...                   ...             ...              ...          ...  ...   \n",
       "811277            17619.0             3.0              0.0        12367  ...   \n",
       "813560             1483.0             3.0              0.0        12367  ...   \n",
       "813561             1483.0             3.0              0.0        12367  ...   \n",
       "813895            37898.0             3.0              0.0        12367  ...   \n",
       "813896            37898.0             3.0              0.0        12367  ...   \n",
       "\n",
       "        skill_id  teacher_id school_id  hint_count  hint_total  overlap_time  \\\n",
       "27            98       41451      3784           1           2        194005   \n",
       "28            99       41451      3784           1           2        194005   \n",
       "29            98       41451      3784           0           3         12515   \n",
       "30            99       41451      3784           0           3         12515   \n",
       "31            98       41451      3784           0           4         44376   \n",
       "...          ...         ...       ...         ...         ...           ...   \n",
       "811277       276       69274      2770           0           3         17619   \n",
       "813560        24       69274      2770           0           4         16694   \n",
       "813561        95       69274      2770           0           4         16694   \n",
       "813895        24       69274      2770           0           4         37898   \n",
       "813896        95       69274      2770           0           4         37898   \n",
       "\n",
       "        first_action  opportunity  opportunity_original lag (t-1)  \n",
       "27               0.0            2                             NaN  \n",
       "28               0.0            4                             0.0  \n",
       "29               0.0            3                             NaN  \n",
       "30               0.0            5                             1.0  \n",
       "31               0.0            4                             NaN  \n",
       "...              ...          ...                   ...       ...  \n",
       "811277           0.0            5                             1.0  \n",
       "813560           0.0            2                             NaN  \n",
       "813561           0.0            5                             0.0  \n",
       "813895           0.0            4                             NaN  \n",
       "813896           0.0            7                             1.0  \n",
       "\n",
       "[37785 rows x 22 columns]"
      ]
     },
     "execution_count": 29,
     "metadata": {},
     "output_type": "execute_result"
    }
   ],
   "source": [
    "new_df[new_df['opportunity_original']== '']"
   ]
  },
  {
   "cell_type": "markdown",
   "metadata": {},
   "source": [
    "We can see that 'opportunity_original' has empty strings. So we need to fill them with zeroes as well."
   ]
  },
  {
   "cell_type": "code",
   "execution_count": 30,
   "metadata": {},
   "outputs": [],
   "source": [
    "new_df.loc[new_df['opportunity_original']== '', 'opportunity_original'] = 0"
   ]
  },
  {
   "cell_type": "markdown",
   "metadata": {},
   "source": [
    "#### Column : ms_first_response"
   ]
  },
  {
   "cell_type": "code",
   "execution_count": 31,
   "metadata": {},
   "outputs": [
    {
     "data": {
      "text/plain": [
       "False"
      ]
     },
     "execution_count": 31,
     "metadata": {},
     "output_type": "execute_result"
    }
   ],
   "source": [
    "new_df['ms_first_response'].isnull().any()"
   ]
  },
  {
   "cell_type": "markdown",
   "metadata": {},
   "source": [
    "#### Column : tutor_mode_cat"
   ]
  },
  {
   "cell_type": "code",
   "execution_count": 32,
   "metadata": {},
   "outputs": [
    {
     "data": {
      "text/plain": [
       "False"
      ]
     },
     "execution_count": 32,
     "metadata": {},
     "output_type": "execute_result"
    }
   ],
   "source": [
    "new_df[\"tutor_mode_cat\"].isnull().any()"
   ]
  },
  {
   "cell_type": "markdown",
   "metadata": {},
   "source": [
    "#### Column : answer_type_cat"
   ]
  },
  {
   "cell_type": "code",
   "execution_count": 33,
   "metadata": {},
   "outputs": [
    {
     "data": {
      "text/plain": [
       "False"
      ]
     },
     "execution_count": 33,
     "metadata": {},
     "output_type": "execute_result"
    }
   ],
   "source": [
    "new_df['answer_type_cat'].isnull().any()"
   ]
  },
  {
   "cell_type": "markdown",
   "metadata": {},
   "source": [
    "Now we will check if any column has a whitespace or not. And fix it if there is any"
   ]
  },
  {
   "cell_type": "code",
   "execution_count": 34,
   "metadata": {},
   "outputs": [
    {
     "data": {
      "text/html": [
       "<div>\n",
       "<style scoped>\n",
       "    .dataframe tbody tr th:only-of-type {\n",
       "        vertical-align: middle;\n",
       "    }\n",
       "\n",
       "    .dataframe tbody tr th {\n",
       "        vertical-align: top;\n",
       "    }\n",
       "\n",
       "    .dataframe thead th {\n",
       "        text-align: right;\n",
       "    }\n",
       "</style>\n",
       "<table border=\"1\" class=\"dataframe\">\n",
       "  <thead>\n",
       "    <tr style=\"text-align: right;\">\n",
       "      <th></th>\n",
       "      <th>order_id</th>\n",
       "      <th>user_id</th>\n",
       "      <th>problem_id</th>\n",
       "      <th>original</th>\n",
       "      <th>correct</th>\n",
       "      <th>attempt_count</th>\n",
       "      <th>ms_first_response</th>\n",
       "      <th>tutor_mode_cat</th>\n",
       "      <th>answer_type_cat</th>\n",
       "      <th>sequence_id</th>\n",
       "      <th>...</th>\n",
       "      <th>skill_id</th>\n",
       "      <th>teacher_id</th>\n",
       "      <th>school_id</th>\n",
       "      <th>hint_count</th>\n",
       "      <th>hint_total</th>\n",
       "      <th>overlap_time</th>\n",
       "      <th>first_action</th>\n",
       "      <th>opportunity</th>\n",
       "      <th>opportunity_original</th>\n",
       "      <th>lag (t-1)</th>\n",
       "    </tr>\n",
       "  </thead>\n",
       "  <tbody>\n",
       "  </tbody>\n",
       "</table>\n",
       "<p>0 rows × 22 columns</p>\n",
       "</div>"
      ],
      "text/plain": [
       "Empty DataFrame\n",
       "Columns: [order_id, user_id, problem_id, original, correct, attempt_count, ms_first_response, tutor_mode_cat, answer_type_cat, sequence_id, position, type_cat, skill_id, teacher_id, school_id, hint_count, hint_total, overlap_time, first_action, opportunity, opportunity_original, lag (t-1)]\n",
       "Index: []\n",
       "\n",
       "[0 rows x 22 columns]"
      ]
     },
     "execution_count": 34,
     "metadata": {},
     "output_type": "execute_result"
    }
   ],
   "source": [
    "new_df[new_df[\"skill_id\"].apply(lambda x: x.strip()).str.len() == 0]"
   ]
  },
  {
   "cell_type": "code",
   "execution_count": 35,
   "metadata": {},
   "outputs": [
    {
     "data": {
      "text/html": [
       "<div>\n",
       "<style scoped>\n",
       "    .dataframe tbody tr th:only-of-type {\n",
       "        vertical-align: middle;\n",
       "    }\n",
       "\n",
       "    .dataframe tbody tr th {\n",
       "        vertical-align: top;\n",
       "    }\n",
       "\n",
       "    .dataframe thead th {\n",
       "        text-align: right;\n",
       "    }\n",
       "</style>\n",
       "<table border=\"1\" class=\"dataframe\">\n",
       "  <thead>\n",
       "    <tr style=\"text-align: right;\">\n",
       "      <th></th>\n",
       "      <th>order_id</th>\n",
       "      <th>user_id</th>\n",
       "      <th>problem_id</th>\n",
       "      <th>original</th>\n",
       "      <th>correct</th>\n",
       "      <th>attempt_count</th>\n",
       "      <th>ms_first_response</th>\n",
       "      <th>tutor_mode_cat</th>\n",
       "      <th>answer_type_cat</th>\n",
       "      <th>sequence_id</th>\n",
       "      <th>...</th>\n",
       "      <th>skill_id</th>\n",
       "      <th>teacher_id</th>\n",
       "      <th>school_id</th>\n",
       "      <th>hint_count</th>\n",
       "      <th>hint_total</th>\n",
       "      <th>overlap_time</th>\n",
       "      <th>first_action</th>\n",
       "      <th>opportunity</th>\n",
       "      <th>opportunity_original</th>\n",
       "      <th>lag (t-1)</th>\n",
       "    </tr>\n",
       "  </thead>\n",
       "  <tbody>\n",
       "  </tbody>\n",
       "</table>\n",
       "<p>0 rows × 22 columns</p>\n",
       "</div>"
      ],
      "text/plain": [
       "Empty DataFrame\n",
       "Columns: [order_id, user_id, problem_id, original, correct, attempt_count, ms_first_response, tutor_mode_cat, answer_type_cat, sequence_id, position, type_cat, skill_id, teacher_id, school_id, hint_count, hint_total, overlap_time, first_action, opportunity, opportunity_original, lag (t-1)]\n",
       "Index: []\n",
       "\n",
       "[0 rows x 22 columns]"
      ]
     },
     "execution_count": 35,
     "metadata": {},
     "output_type": "execute_result"
    }
   ],
   "source": [
    "new_df[new_df['opportunity'].apply(lambda x: x.strip()).str.len() == 0]"
   ]
  },
  {
   "cell_type": "code",
   "execution_count": 36,
   "metadata": {
    "scrolled": true
   },
   "outputs": [
    {
     "data": {
      "text/plain": [
       "order_id                  int64\n",
       "user_id                   int64\n",
       "problem_id                int64\n",
       "original                  int64\n",
       "correct                 float64\n",
       "attempt_count             int64\n",
       "ms_first_response       float64\n",
       "tutor_mode_cat          float64\n",
       "answer_type_cat         float64\n",
       "sequence_id               int64\n",
       "position                  int64\n",
       "type_cat                float64\n",
       "skill_id                 object\n",
       "teacher_id                int64\n",
       "school_id                 int64\n",
       "hint_count                int64\n",
       "hint_total                int64\n",
       "overlap_time              int64\n",
       "first_action            float64\n",
       "opportunity              object\n",
       "opportunity_original     object\n",
       "lag (t-1)               float64\n",
       "dtype: object"
      ]
     },
     "execution_count": 36,
     "metadata": {},
     "output_type": "execute_result"
    }
   ],
   "source": [
    "new_df.dtypes"
   ]
  },
  {
   "cell_type": "markdown",
   "metadata": {},
   "source": [
    "We can see that some of our numerical data is stored as string object. So we will convert them to 'int'."
   ]
  },
  {
   "cell_type": "code",
   "execution_count": 37,
   "metadata": {},
   "outputs": [],
   "source": [
    "new_df['skill_id'] = new_df['skill_id'].astype(str).astype(int)\n",
    "new_df['opportunity'] = new_df['opportunity'].astype(str).astype(int)\n",
    "new_df['opportunity_original'] = new_df['opportunity_original'].astype(str).astype(int)"
   ]
  },
  {
   "cell_type": "code",
   "execution_count": 38,
   "metadata": {},
   "outputs": [
    {
     "data": {
      "text/plain": [
       "array([1.   , 0.   , 0.25 , 0.5  , 0.75 , 0.875, 0.625, 0.125])"
      ]
     },
     "execution_count": 38,
     "metadata": {},
     "output_type": "execute_result"
    }
   ],
   "source": [
    "new_df['correct'].unique()"
   ]
  },
  {
   "cell_type": "markdown",
   "metadata": {},
   "source": [
    "We also notice that our target column is not binary. So will round them to the nearest integers [0,1]."
   ]
  },
  {
   "cell_type": "code",
   "execution_count": 39,
   "metadata": {},
   "outputs": [
    {
     "data": {
      "text/plain": [
       "array([1., 0.])"
      ]
     },
     "execution_count": 39,
     "metadata": {},
     "output_type": "execute_result"
    }
   ],
   "source": [
    "#we can see that we have some unusual'correct' values. We should round them to the nearest number so that our 'correct' column only has the value 0 and 1. That way we can make classification model.\n",
    "new_df.loc[new_df['correct'] <=0.5, 'correct'] = 0\n",
    "new_df.loc[new_df['correct'] >0.5, 'correct'] = 1\n",
    "new_df['correct'].unique()"
   ]
  },
  {
   "cell_type": "markdown",
   "metadata": {},
   "source": [
    "### Data Visualization"
   ]
  },
  {
   "cell_type": "markdown",
   "metadata": {},
   "source": [
    "Lets see if there are equal number of problem types or not. It can affect the model accuracy if we have a large number of one particular type and small number of other problem type."
   ]
  },
  {
   "cell_type": "code",
   "execution_count": 40,
   "metadata": {},
   "outputs": [
    {
     "data": {
      "text/plain": [
       "Text(0.5, 0, 'Problem Type Category')"
      ]
     },
     "execution_count": 40,
     "metadata": {},
     "output_type": "execute_result"
    },
    {
     "data": {
      "image/png": "[encoded data removed]",
      "text/plain": [
       "<Figure size 432x288 with 1 Axes>"
      ]
     },
     "metadata": {
      "needs_background": "light"
     },
     "output_type": "display_data"
    }
   ],
   "source": [
    "import matplotlib.pyplot as plt\n",
    "new_df['type_cat'].hist()\n",
    "plt.xlabel(\"Problem Type Category\")"
   ]
  },
  {
   "cell_type": "markdown",
   "metadata": {},
   "source": [
    "Since our dataset is not evenly distributed among problem types, we will ignore this feature when we train our model."
   ]
  },
  {
   "cell_type": "code",
   "execution_count": 41,
   "metadata": {},
   "outputs": [
    {
     "data": {
      "image/png": "[encoded data removed]",
      "text/plain": [
       "<Figure size 720x720 with 1 Axes>"
      ]
     },
     "metadata": {
      "needs_background": "light"
     },
     "output_type": "display_data"
    }
   ],
   "source": [
    "hint_count = new_df['opportunity']\n",
    "overlap_time = new_df['overlap_time']\n",
    "\n",
    "plt.figure(figsize=(10, 10))\n",
    "plt.scatter(hint_count,overlap_time)\n",
    "plt.xlabel(\"opportunity\")\n",
    "plt.ylabel(\"overlap_time\")\n",
    "plt.show()"
   ]
  },
  {
   "cell_type": "markdown",
   "metadata": {},
   "source": [
    "We can see that the more opportunity a student gets to practice a problem, the less overlap time it takes to solve the problem."
   ]
  },
  {
   "cell_type": "markdown",
   "metadata": {},
   "source": [
    "We will now try to visualize the portion of answer types."
   ]
  },
  {
   "cell_type": "code",
   "execution_count": 42,
   "metadata": {},
   "outputs": [
    {
     "data": {
      "text/html": [
       "<div>\n",
       "<style scoped>\n",
       "    .dataframe tbody tr th:only-of-type {\n",
       "        vertical-align: middle;\n",
       "    }\n",
       "\n",
       "    .dataframe tbody tr th {\n",
       "        vertical-align: top;\n",
       "    }\n",
       "\n",
       "    .dataframe thead th {\n",
       "        text-align: right;\n",
       "    }\n",
       "</style>\n",
       "<table border=\"1\" class=\"dataframe\">\n",
       "  <thead>\n",
       "    <tr style=\"text-align: right;\">\n",
       "      <th></th>\n",
       "      <th>order_id</th>\n",
       "      <th>user_id</th>\n",
       "      <th>problem_id</th>\n",
       "      <th>original</th>\n",
       "      <th>correct</th>\n",
       "      <th>attempt_count</th>\n",
       "      <th>ms_first_response</th>\n",
       "      <th>tutor_mode_cat</th>\n",
       "      <th>sequence_id</th>\n",
       "      <th>position</th>\n",
       "      <th>...</th>\n",
       "      <th>skill_id</th>\n",
       "      <th>teacher_id</th>\n",
       "      <th>school_id</th>\n",
       "      <th>hint_count</th>\n",
       "      <th>hint_total</th>\n",
       "      <th>overlap_time</th>\n",
       "      <th>first_action</th>\n",
       "      <th>opportunity</th>\n",
       "      <th>opportunity_original</th>\n",
       "      <th>lag (t-1)</th>\n",
       "    </tr>\n",
       "    <tr>\n",
       "      <th>answer_type_cat</th>\n",
       "      <th></th>\n",
       "      <th></th>\n",
       "      <th></th>\n",
       "      <th></th>\n",
       "      <th></th>\n",
       "      <th></th>\n",
       "      <th></th>\n",
       "      <th></th>\n",
       "      <th></th>\n",
       "      <th></th>\n",
       "      <th></th>\n",
       "      <th></th>\n",
       "      <th></th>\n",
       "      <th></th>\n",
       "      <th></th>\n",
       "      <th></th>\n",
       "      <th></th>\n",
       "      <th></th>\n",
       "      <th></th>\n",
       "      <th></th>\n",
       "      <th></th>\n",
       "    </tr>\n",
       "  </thead>\n",
       "  <tbody>\n",
       "    <tr>\n",
       "      <th>0.0</th>\n",
       "      <td>297204</td>\n",
       "      <td>297204</td>\n",
       "      <td>297204</td>\n",
       "      <td>297204</td>\n",
       "      <td>297204</td>\n",
       "      <td>297204</td>\n",
       "      <td>297204</td>\n",
       "      <td>297204</td>\n",
       "      <td>297204</td>\n",
       "      <td>297204</td>\n",
       "      <td>...</td>\n",
       "      <td>297204</td>\n",
       "      <td>297204</td>\n",
       "      <td>297204</td>\n",
       "      <td>297204</td>\n",
       "      <td>297204</td>\n",
       "      <td>297204</td>\n",
       "      <td>297204</td>\n",
       "      <td>297204</td>\n",
       "      <td>297204</td>\n",
       "      <td>87165</td>\n",
       "    </tr>\n",
       "    <tr>\n",
       "      <th>1.0</th>\n",
       "      <td>359280</td>\n",
       "      <td>359280</td>\n",
       "      <td>359280</td>\n",
       "      <td>359280</td>\n",
       "      <td>359280</td>\n",
       "      <td>359280</td>\n",
       "      <td>359280</td>\n",
       "      <td>359280</td>\n",
       "      <td>359280</td>\n",
       "      <td>359280</td>\n",
       "      <td>...</td>\n",
       "      <td>359280</td>\n",
       "      <td>359280</td>\n",
       "      <td>359280</td>\n",
       "      <td>359280</td>\n",
       "      <td>359280</td>\n",
       "      <td>359280</td>\n",
       "      <td>359280</td>\n",
       "      <td>359280</td>\n",
       "      <td>359280</td>\n",
       "      <td>117108</td>\n",
       "    </tr>\n",
       "    <tr>\n",
       "      <th>2.0</th>\n",
       "      <td>33</td>\n",
       "      <td>33</td>\n",
       "      <td>33</td>\n",
       "      <td>33</td>\n",
       "      <td>33</td>\n",
       "      <td>33</td>\n",
       "      <td>33</td>\n",
       "      <td>33</td>\n",
       "      <td>33</td>\n",
       "      <td>33</td>\n",
       "      <td>...</td>\n",
       "      <td>33</td>\n",
       "      <td>33</td>\n",
       "      <td>33</td>\n",
       "      <td>33</td>\n",
       "      <td>33</td>\n",
       "      <td>33</td>\n",
       "      <td>33</td>\n",
       "      <td>33</td>\n",
       "      <td>33</td>\n",
       "      <td>0</td>\n",
       "    </tr>\n",
       "    <tr>\n",
       "      <th>3.0</th>\n",
       "      <td>156670</td>\n",
       "      <td>156670</td>\n",
       "      <td>156670</td>\n",
       "      <td>156670</td>\n",
       "      <td>156670</td>\n",
       "      <td>156670</td>\n",
       "      <td>156670</td>\n",
       "      <td>156670</td>\n",
       "      <td>156670</td>\n",
       "      <td>156670</td>\n",
       "      <td>...</td>\n",
       "      <td>156670</td>\n",
       "      <td>156670</td>\n",
       "      <td>156670</td>\n",
       "      <td>156670</td>\n",
       "      <td>156670</td>\n",
       "      <td>156670</td>\n",
       "      <td>156670</td>\n",
       "      <td>156670</td>\n",
       "      <td>156670</td>\n",
       "      <td>44800</td>\n",
       "    </tr>\n",
       "    <tr>\n",
       "      <th>4.0</th>\n",
       "      <td>1793</td>\n",
       "      <td>1793</td>\n",
       "      <td>1793</td>\n",
       "      <td>1793</td>\n",
       "      <td>1793</td>\n",
       "      <td>1793</td>\n",
       "      <td>1793</td>\n",
       "      <td>1793</td>\n",
       "      <td>1793</td>\n",
       "      <td>1793</td>\n",
       "      <td>...</td>\n",
       "      <td>1793</td>\n",
       "      <td>1793</td>\n",
       "      <td>1793</td>\n",
       "      <td>1793</td>\n",
       "      <td>1793</td>\n",
       "      <td>1793</td>\n",
       "      <td>1793</td>\n",
       "      <td>1793</td>\n",
       "      <td>1793</td>\n",
       "      <td>1215</td>\n",
       "    </tr>\n",
       "    <tr>\n",
       "      <th>5.0</th>\n",
       "      <td>164</td>\n",
       "      <td>164</td>\n",
       "      <td>164</td>\n",
       "      <td>164</td>\n",
       "      <td>164</td>\n",
       "      <td>164</td>\n",
       "      <td>164</td>\n",
       "      <td>164</td>\n",
       "      <td>164</td>\n",
       "      <td>164</td>\n",
       "      <td>...</td>\n",
       "      <td>164</td>\n",
       "      <td>164</td>\n",
       "      <td>164</td>\n",
       "      <td>164</td>\n",
       "      <td>164</td>\n",
       "      <td>164</td>\n",
       "      <td>164</td>\n",
       "      <td>164</td>\n",
       "      <td>164</td>\n",
       "      <td>0</td>\n",
       "    </tr>\n",
       "  </tbody>\n",
       "</table>\n",
       "<p>6 rows × 21 columns</p>\n",
       "</div>"
      ],
      "text/plain": [
       "                 order_id  user_id  problem_id  original  correct  \\\n",
       "answer_type_cat                                                     \n",
       "0.0                297204   297204      297204    297204   297204   \n",
       "1.0                359280   359280      359280    359280   359280   \n",
       "2.0                    33       33          33        33       33   \n",
       "3.0                156670   156670      156670    156670   156670   \n",
       "4.0                  1793     1793        1793      1793     1793   \n",
       "5.0                   164      164         164       164      164   \n",
       "\n",
       "                 attempt_count  ms_first_response  tutor_mode_cat  \\\n",
       "answer_type_cat                                                     \n",
       "0.0                     297204             297204          297204   \n",
       "1.0                     359280             359280          359280   \n",
       "2.0                         33                 33              33   \n",
       "3.0                     156670             156670          156670   \n",
       "4.0                       1793               1793            1793   \n",
       "5.0                        164                164             164   \n",
       "\n",
       "                 sequence_id  position  ...  skill_id  teacher_id  school_id  \\\n",
       "answer_type_cat                         ...                                    \n",
       "0.0                   297204    297204  ...    297204      297204     297204   \n",
       "1.0                   359280    359280  ...    359280      359280     359280   \n",
       "2.0                       33        33  ...        33          33         33   \n",
       "3.0                   156670    156670  ...    156670      156670     156670   \n",
       "4.0                     1793      1793  ...      1793        1793       1793   \n",
       "5.0                      164       164  ...       164         164        164   \n",
       "\n",
       "                 hint_count  hint_total  overlap_time  first_action  \\\n",
       "answer_type_cat                                                       \n",
       "0.0                  297204      297204        297204        297204   \n",
       "1.0                  359280      359280        359280        359280   \n",
       "2.0                      33          33            33            33   \n",
       "3.0                  156670      156670        156670        156670   \n",
       "4.0                    1793        1793          1793          1793   \n",
       "5.0                     164         164           164           164   \n",
       "\n",
       "                 opportunity  opportunity_original  lag (t-1)  \n",
       "answer_type_cat                                                \n",
       "0.0                   297204                297204      87165  \n",
       "1.0                   359280                359280     117108  \n",
       "2.0                       33                    33          0  \n",
       "3.0                   156670                156670      44800  \n",
       "4.0                     1793                  1793       1215  \n",
       "5.0                      164                   164          0  \n",
       "\n",
       "[6 rows x 21 columns]"
      ]
     },
     "execution_count": 42,
     "metadata": {},
     "output_type": "execute_result"
    }
   ],
   "source": [
    "new_df.groupby('answer_type_cat').count()"
   ]
  },
  {
   "cell_type": "code",
   "execution_count": 43,
   "metadata": {},
   "outputs": [
    {
     "data": {
      "image/png": "[encoded data removed]",
      "text/plain": [
       "<Figure size 432x288 with 1 Axes>"
      ]
     },
     "metadata": {},
     "output_type": "display_data"
    }
   ],
   "source": [
    "problem_type = ('algebra', 'choose_1', 'choose_n', 'fill_in_1','open_response', 'rank')\n",
    "\n",
    "a= len(new_df[new_df['answer_type_cat']== 0.0])\n",
    "b= len(new_df[new_df['answer_type_cat']== 1.0])\n",
    "c= len(new_df[new_df['answer_type_cat']== 2.0])\n",
    "d= len(new_df[new_df['answer_type_cat']== 3.0])\n",
    "e= len(new_df[new_df['answer_type_cat']== 4.0])\n",
    "f= len(new_df[new_df['answer_type_cat']== 5.0])\n",
    "count = (a, b, b, d, e,f)\n",
    "\n",
    "plt.pie(\n",
    "    count,\n",
    "    labels=problem_type,\n",
    "    autopct='%1.1f%%',\n",
    ")\n",
    "plt.show()"
   ]
  },
  {
   "cell_type": "markdown",
   "metadata": {},
   "source": [
    "We can see our data set has a very small portion of 'choose_n' and 'rank' type problem. This can make our model biased if we use this feature and we will not be able to correctly predict data that has 'choose_n' and 'rank' type problem in them."
   ]
  },
  {
   "cell_type": "code",
   "execution_count": 44,
   "metadata": {},
   "outputs": [
    {
     "data": {
      "text/plain": [
       "(815144, 22)"
      ]
     },
     "execution_count": 44,
     "metadata": {},
     "output_type": "execute_result"
    }
   ],
   "source": [
    "new_df.shape"
   ]
  },
  {
   "cell_type": "markdown",
   "metadata": {},
   "source": [
    "### Data Preprocessing"
   ]
  },
  {
   "cell_type": "code",
   "execution_count": 47,
   "metadata": {},
   "outputs": [],
   "source": [
    "target_column = 'correct'\n",
    "feature_columns = [\"problem_id\", \"original\", \"attempt_count\", \"ms_first_response\", \n",
    "            \"tutor_mode_cat\", \"sequence_id\", \"skill_id\", \"teacher_id\", \n",
    "            \"school_id\",\"hint_count\", \"hint_total\", \"overlap_time\", \"first_action\", \"opportunity\",\n",
    "            \"opportunity_original\"]\n",
    "\n",
    "X = new_df[feature_columns]\n",
    "y = new_df[target_column]\n",
    "\n",
    "# 75% train data, 25% test data\n",
    "X_train, X_test, y_train, y_test = X.iloc[:600000 , :], X.iloc[600000: , :], y[:600000], y[600000:]\n",
    "\n",
    "from sklearn.preprocessing import StandardScaler\n",
    "sc = StandardScaler()\n",
    "X_train = sc.fit_transform(X_train)\n",
    "X_test = sc.fit_transform (X_test)\n"
   ]
  },
  {
   "cell_type": "markdown",
   "metadata": {},
   "source": [
    "### Logistic Regression and GridSearchCV"
   ]
  },
  {
   "cell_type": "code",
   "execution_count": 57,
   "metadata": {
    "scrolled": true
   },
   "outputs": [
    {
     "name": "stderr",
     "output_type": "stream",
     "text": [
      "/home/michael/.local/lib/python3.8/site-packages/sklearn/linear_model/_logistic.py:1320: UserWarning: Setting penalty='none' will ignore the C and l1_ratio parameters\n",
      "  warnings.warn(\n"
     ]
    },
    {
     "name": "stdout",
     "output_type": "stream",
     "text": [
      "Best Score: 0.898675\n",
      "Best Hyperparameters: {'C': 1e-05, 'penalty': 'none', 'solver': 'newton-cg'}\n"
     ]
    },
    {
     "name": "stderr",
     "output_type": "stream",
     "text": [
      "/home/michael/.local/lib/python3.8/site-packages/sklearn/utils/optimize.py:211: ConvergenceWarning: newton-cg failed to converge. Increase the number of iterations.\n",
      "  warnings.warn(\"newton-cg failed to converge. Increase the \"\n"
     ]
    }
   ],
   "source": [
    "from sklearn.linear_model import LogisticRegression\n",
    "LR = LogisticRegression()\n",
    "\n",
    "# Source - https://machinelearningmastery.com/hyperparameter-optimization-with-random-search-and-grid-search/\n",
    "from sklearn.model_selection import GridSearchCV\n",
    "space = dict()\n",
    "space['solver'] = ['newton-cg', 'lbfgs']\n",
    "space['penalty'] = ['none', 'l1', 'l2', 'elasticnet']\n",
    "space['C'] = [1e-5, 1e-4, 1e-3, 1e-2, 1e-1, 1, 10, 100]\n",
    "search = GridSearchCV(LR, space, scoring='accuracy', n_jobs=-1,cv=2)\n",
    "result = search.fit(X_train, y_train)\n",
    "print('Best Score: %s' % result.best_score_)\n",
    "print('Best Hyperparameters: %s' % result.best_params_)"
   ]
  },
  {
   "cell_type": "markdown",
   "metadata": {},
   "source": [
    "We see that we get a best score with Hyperparameters: {'C': 1e-05, 'penalty': 'none', 'solver': 'newton-cg'}. So, will use them in our model."
   ]
  },
  {
   "cell_type": "markdown",
   "metadata": {},
   "source": [
    "#### LogisticRegression Model Training and ROC Curve"
   ]
  },
  {
   "cell_type": "code",
   "execution_count": 58,
   "metadata": {},
   "outputs": [
    {
     "name": "stderr",
     "output_type": "stream",
     "text": [
      "/home/michael/.local/lib/python3.8/site-packages/scipy/optimize/linesearch.py:327: LineSearchWarning: The line search algorithm did not converge\n",
      "  warn('The line search algorithm did not converge', LineSearchWarning)\n",
      "/home/michael/.local/lib/python3.8/site-packages/sklearn/utils/optimize.py:204: UserWarning: Line Search failed\n",
      "  warnings.warn('Line Search failed')\n"
     ]
    },
    {
     "name": "stdout",
     "output_type": "stream",
     "text": [
      "Logistic: ROC AUC=0.818\n"
     ]
    },
    {
     "data": {
      "image/png": "[encoded data removed]",
      "text/plain": [
       "<Figure size 432x288 with 1 Axes>"
      ]
     },
     "metadata": {
      "needs_background": "light"
     },
     "output_type": "display_data"
    }
   ],
   "source": [
    "from sklearn.metrics import roc_curve, roc_auc_score\n",
    "\n",
    "LR = LogisticRegression(C=1e-05, solver='newton-cg').fit(X_train,y_train)\n",
    "lr_probs = LR.predict_proba(X_test)\n",
    "lr_probs = lr_probs[:, 1]\n",
    "lr_auc = roc_auc_score(y_test, lr_probs)\n",
    "print('Logistic: ROC AUC=%.3f' % (lr_auc))\n",
    "lr_fpr, lr_tpr, _ = roc_curve(y_test, lr_probs)\n",
    "plt.plot(lr_fpr, lr_tpr, marker='.', label='Logistic')\n",
    "plt.xlabel('False Positive Rate')\n",
    "plt.ylabel('True Positive Rate')\n",
    "plt.legend()\n",
    "plt.show()"
   ]
  },
  {
   "cell_type": "markdown",
   "metadata": {},
   "source": [
    "We can see from the roc_auc score that the performace of our model is fairly good and the model can fairly distinguish between the classes."
   ]
  },
  {
   "cell_type": "markdown",
   "metadata": {},
   "source": [
    "#### Confusion matrix"
   ]
  },
  {
   "cell_type": "code",
   "execution_count": 59,
   "metadata": {},
   "outputs": [
    {
     "name": "stdout",
     "output_type": "stream",
     "text": [
      "[[ 40299  50759]\n",
      " [    26 124060]]\n"
     ]
    }
   ],
   "source": [
    "from sklearn.metrics import confusion_matrix\n",
    "y_pred1 = LR.predict(X_test)\n",
    "print(confusion_matrix(y_test, y_pred1))"
   ]
  },
  {
   "cell_type": "markdown",
   "metadata": {},
   "source": [
    "From the confusion matrix we can see that TN is high meaning our model can correctly predict negative class. But our model cannot predict the positive class properly since TP is lower than FP."
   ]
  },
  {
   "cell_type": "markdown",
   "metadata": {},
   "source": [
    "#### Visualizing significant coefficients"
   ]
  },
  {
   "cell_type": "code",
   "execution_count": 55,
   "metadata": {},
   "outputs": [
    {
     "data": {
      "text/plain": [
       "(array([ 0,  1,  2,  3,  4,  5,  6,  7,  8,  9, 10, 11, 12, 13, 14]),\n",
       " <a list of 15 Text xticklabel objects>)"
      ]
     },
     "execution_count": 55,
     "metadata": {},
     "output_type": "execute_result"
    },
    {
     "data": {
      "image/png": "[encoded data removed]",
      "text/plain": [
       "<Figure size 432x288 with 1 Axes>"
      ]
     },
     "metadata": {
      "needs_background": "light"
     },
     "output_type": "display_data"
    }
   ],
   "source": [
    "import numpy as np\n",
    "plt.bar(np.arange(15),LR.coef_[0],tick_label=feature_columns)\n",
    "plt.xticks(rotation=90)"
   ]
  },
  {
   "cell_type": "markdown",
   "metadata": {},
   "source": [
    "The most significant variables are - 'opportunity_originals', 'problem_id'"
   ]
  },
  {
   "cell_type": "markdown",
   "metadata": {},
   "source": [
    "### RandomForestClassifier and GridsearchCV"
   ]
  },
  {
   "cell_type": "code",
   "execution_count": 56,
   "metadata": {},
   "outputs": [
    {
     "name": "stdout",
     "output_type": "stream",
     "text": [
      "Best Score: 0.8204583333333333\n",
      "Best Hyperparameters: {'bootstrap': True, 'max_depth': 5, 'max_features': 'auto', 'n_estimators': 15}\n"
     ]
    }
   ],
   "source": [
    "from sklearn.ensemble import RandomForestClassifier\n",
    "\n",
    "rfr = RandomForestClassifier(random_state = 1)\n",
    "param_grid = {  'bootstrap': [True], 'max_depth': [5, 10, None], 'max_features': ['auto', 'log2'], 'n_estimators': [5, 6, 7, 8, 9, 10, 11, 12, 13, 15]}\n",
    "g_search = GridSearchCV(estimator = rfr, param_grid = param_grid,cv = 3, n_jobs = -1, verbose = 0, return_train_score=True)\n",
    "result = g_search.fit(X_train, y_train);\n",
    "print('Best Score: %s' % result.best_score_)\n",
    "print('Best Hyperparameters: %s' % result.best_params_)"
   ]
  },
  {
   "cell_type": "markdown",
   "metadata": {},
   "source": [
    "We see that we get a best score with Hyperparameters: {'bootstrap': True, 'max_depth': 5, 'max_features': 'auto', 'n_estimators': 13}. So, will use them in our model."
   ]
  },
  {
   "cell_type": "markdown",
   "metadata": {},
   "source": [
    "#### RandomForest Model Training and ROC Curve"
   ]
  },
  {
   "cell_type": "code",
   "execution_count": 60,
   "metadata": {},
   "outputs": [
    {
     "name": "stdout",
     "output_type": "stream",
     "text": [
      "Random Forest: ROC AUC=0.924\n"
     ]
    },
    {
     "data": {
      "image/png": "[encoded data removed]",
      "text/plain": [
       "<Figure size 432x288 with 1 Axes>"
      ]
     },
     "metadata": {
      "needs_background": "light"
     },
     "output_type": "display_data"
    }
   ],
   "source": [
    "rfr = RandomForestClassifier(bootstrap=True, max_depth=5, max_features='auto',n_estimators=13).fit(X_train,y_train)\n",
    "rfr_probs = rfr.predict_proba(X_test)\n",
    "rfr_probs = rfr_probs[:, 1]\n",
    "rfr_auc = roc_auc_score(y_test, rfr_probs)\n",
    "print('Random Forest: ROC AUC=%.3f' % (rfr_auc))\n",
    "rfr_fpr, rfr_tpr, _ = roc_curve(y_test, rfr_probs)\n",
    "plt.plot(rfr_fpr, rfr_tpr, marker='.', label='Random Forest Regression')\n",
    "plt.xlabel('False Positive Rate')\n",
    "plt.ylabel('True Positive Rate')\n",
    "plt.legend()\n",
    "plt.show()"
   ]
  },
  {
   "cell_type": "markdown",
   "metadata": {},
   "source": [
    "We can see from the roc_auc score that it is close to 1 which is better than our logistic regression model. The performace of our model is very good and the model can distinguish between the classes."
   ]
  },
  {
   "cell_type": "markdown",
   "metadata": {},
   "source": [
    "#### Confusion matrix"
   ]
  },
  {
   "cell_type": "code",
   "execution_count": 61,
   "metadata": {},
   "outputs": [
    {
     "name": "stdout",
     "output_type": "stream",
     "text": [
      "[[ 59786  31272]\n",
      " [   483 123603]]\n"
     ]
    }
   ],
   "source": [
    "y_pred2 = rfr.predict(X_test)\n",
    "print(confusion_matrix(y_test, y_pred2))"
   ]
  },
  {
   "cell_type": "markdown",
   "metadata": {},
   "source": [
    "From the confusion matrix we can see that TN is high meaning our model can correctly predict negative class.Our model can also predict the positive class properly since TP is higer than FP."
   ]
  },
  {
   "cell_type": "markdown",
   "metadata": {},
   "source": [
    "#### Visualize important features"
   ]
  },
  {
   "cell_type": "code",
   "execution_count": 62,
   "metadata": {},
   "outputs": [
    {
     "data": {
      "text/plain": [
       "(array([0.  , 0.05, 0.1 , 0.15, 0.2 , 0.25, 0.3 , 0.35, 0.4 ]),\n",
       " <a list of 9 Text xticklabel objects>)"
      ]
     },
     "execution_count": 62,
     "metadata": {},
     "output_type": "execute_result"
    },
    {
     "data": {
      "image/png": "[encoded data removed]",
      "text/plain": [
       "<Figure size 432x288 with 1 Axes>"
      ]
     },
     "metadata": {
      "needs_background": "light"
     },
     "output_type": "display_data"
    }
   ],
   "source": [
    "plt.barh(np.arange(15),rfr.feature_importances_,tick_label=feature_columns)\n",
    "plt.xticks(rotation=90)"
   ]
  },
  {
   "cell_type": "markdown",
   "metadata": {},
   "source": [
    "The most important features are - 'attempt_count', 'hint_count', 'first_action'."
   ]
  },
  {
   "cell_type": "markdown",
   "metadata": {},
   "source": [
    "### Neural Network Model"
   ]
  },
  {
   "cell_type": "code",
   "execution_count": 63,
   "metadata": {},
   "outputs": [
    {
     "name": "stdout",
     "output_type": "stream",
     "text": [
      "Epoch 1/100\n",
      "60/60 [==============================] - 2s 19ms/step - loss: 0.7331 - accuracy: 0.5609 - val_loss: 0.6397 - val_accuracy: 0.6427\n",
      "Epoch 2/100\n",
      "60/60 [==============================] - 1s 9ms/step - loss: 0.6062 - accuracy: 0.6872 - val_loss: 0.5475 - val_accuracy: 0.7360\n",
      "Epoch 3/100\n",
      "60/60 [==============================] - 1s 9ms/step - loss: 0.5381 - accuracy: 0.7306 - val_loss: 0.5056 - val_accuracy: 0.7521\n",
      "Epoch 4/100\n",
      "60/60 [==============================] - 1s 9ms/step - loss: 0.4979 - accuracy: 0.7472 - val_loss: 0.4834 - val_accuracy: 0.7595\n",
      "Epoch 5/100\n",
      "60/60 [==============================] - 1s 9ms/step - loss: 0.4626 - accuracy: 0.7677 - val_loss: 0.4635 - val_accuracy: 0.7669\n",
      "Epoch 6/100\n",
      "60/60 [==============================] - 1s 9ms/step - loss: 0.4270 - accuracy: 0.7865 - val_loss: 0.4408 - val_accuracy: 0.7761\n",
      "Epoch 7/100\n",
      "60/60 [==============================] - 1s 9ms/step - loss: 0.3998 - accuracy: 0.8057 - val_loss: 0.4254 - val_accuracy: 0.7828\n",
      "Epoch 8/100\n",
      "60/60 [==============================] - 1s 9ms/step - loss: 0.3787 - accuracy: 0.8221 - val_loss: 0.4128 - val_accuracy: 0.7881\n",
      "Epoch 9/100\n",
      "60/60 [==============================] - 1s 9ms/step - loss: 0.3683 - accuracy: 0.8270 - val_loss: 0.4061 - val_accuracy: 0.7912\n",
      "Epoch 10/100\n",
      "60/60 [==============================] - 1s 9ms/step - loss: 0.3588 - accuracy: 0.8304 - val_loss: 0.3991 - val_accuracy: 0.7961\n",
      "Epoch 11/100\n",
      "60/60 [==============================] - 1s 9ms/step - loss: 0.3512 - accuracy: 0.8315 - val_loss: 0.3982 - val_accuracy: 0.7986\n",
      "Epoch 12/100\n",
      "60/60 [==============================] - 1s 9ms/step - loss: 0.3471 - accuracy: 0.8321 - val_loss: 0.3942 - val_accuracy: 0.8021\n",
      "Epoch 13/100\n",
      "60/60 [==============================] - 1s 9ms/step - loss: 0.3433 - accuracy: 0.8329 - val_loss: 0.3956 - val_accuracy: 0.8021\n",
      "Epoch 14/100\n",
      "60/60 [==============================] - 1s 9ms/step - loss: 0.3448 - accuracy: 0.8335 - val_loss: 0.3936 - val_accuracy: 0.8022\n",
      "Epoch 15/100\n",
      "60/60 [==============================] - 1s 9ms/step - loss: 0.3473 - accuracy: 0.8326 - val_loss: 0.3900 - val_accuracy: 0.8002\n",
      "Epoch 16/100\n",
      "60/60 [==============================] - 1s 9ms/step - loss: 0.3470 - accuracy: 0.8332 - val_loss: 0.3952 - val_accuracy: 0.7984\n",
      "Epoch 17/100\n",
      "60/60 [==============================] - 1s 10ms/step - loss: 0.3392 - accuracy: 0.8341 - val_loss: 0.3940 - val_accuracy: 0.7977\n",
      "Epoch 18/100\n",
      "60/60 [==============================] - 1s 9ms/step - loss: 0.3408 - accuracy: 0.8343 - val_loss: 0.3927 - val_accuracy: 0.7982\n",
      "Epoch 19/100\n",
      "60/60 [==============================] - 1s 9ms/step - loss: 0.3474 - accuracy: 0.8342 - val_loss: 0.3941 - val_accuracy: 0.7975\n",
      "Epoch 20/100\n",
      "60/60 [==============================] - 1s 9ms/step - loss: 0.3406 - accuracy: 0.8346 - val_loss: 0.4016 - val_accuracy: 0.7930\n",
      "Epoch 21/100\n",
      "60/60 [==============================] - 1s 9ms/step - loss: 0.3396 - accuracy: 0.8337 - val_loss: 0.3943 - val_accuracy: 0.7936\n",
      "Epoch 22/100\n",
      "60/60 [==============================] - 1s 9ms/step - loss: 0.3381 - accuracy: 0.8345 - val_loss: 0.3997 - val_accuracy: 0.7928\n",
      "Epoch 23/100\n",
      "60/60 [==============================] - 1s 9ms/step - loss: 0.3378 - accuracy: 0.8346 - val_loss: 0.3988 - val_accuracy: 0.7934\n",
      "Epoch 24/100\n",
      "60/60 [==============================] - 1s 9ms/step - loss: 0.3318 - accuracy: 0.8346 - val_loss: 0.3999 - val_accuracy: 0.7902\n",
      "Epoch 25/100\n",
      "60/60 [==============================] - 1s 9ms/step - loss: 0.3346 - accuracy: 0.8348 - val_loss: 0.3923 - val_accuracy: 0.7957\n",
      "Epoch 26/100\n",
      "60/60 [==============================] - 1s 9ms/step - loss: 0.3358 - accuracy: 0.8352 - val_loss: 0.3979 - val_accuracy: 0.7913\n",
      "Epoch 27/100\n",
      "60/60 [==============================] - 1s 9ms/step - loss: 0.3363 - accuracy: 0.8350 - val_loss: 0.3976 - val_accuracy: 0.7959\n",
      "Epoch 28/100\n",
      "60/60 [==============================] - 1s 9ms/step - loss: 0.3348 - accuracy: 0.8350 - val_loss: 0.4004 - val_accuracy: 0.7916\n",
      "Epoch 29/100\n",
      "60/60 [==============================] - 1s 9ms/step - loss: 0.3324 - accuracy: 0.8351 - val_loss: 0.3989 - val_accuracy: 0.7925\n",
      "Epoch 30/100\n",
      "60/60 [==============================] - 1s 9ms/step - loss: 0.3302 - accuracy: 0.8360 - val_loss: 0.3966 - val_accuracy: 0.7964\n",
      "Epoch 31/100\n",
      "60/60 [==============================] - 1s 9ms/step - loss: 0.3291 - accuracy: 0.8348 - val_loss: 0.4000 - val_accuracy: 0.7882\n",
      "Epoch 32/100\n",
      "60/60 [==============================] - 1s 9ms/step - loss: 0.3292 - accuracy: 0.8348 - val_loss: 0.3925 - val_accuracy: 0.7963\n",
      "Epoch 33/100\n",
      "60/60 [==============================] - 1s 9ms/step - loss: 0.3288 - accuracy: 0.8359 - val_loss: 0.3916 - val_accuracy: 0.7962\n",
      "Epoch 34/100\n",
      "60/60 [==============================] - 1s 9ms/step - loss: 0.3285 - accuracy: 0.8351 - val_loss: 0.3883 - val_accuracy: 0.7977\n",
      "Epoch 35/100\n",
      "60/60 [==============================] - 1s 9ms/step - loss: 0.3291 - accuracy: 0.8348 - val_loss: 0.3924 - val_accuracy: 0.7926\n",
      "Epoch 36/100\n",
      "60/60 [==============================] - 1s 9ms/step - loss: 0.3284 - accuracy: 0.8351 - val_loss: 0.3940 - val_accuracy: 0.7925\n",
      "Epoch 37/100\n",
      "60/60 [==============================] - 1s 9ms/step - loss: 0.3271 - accuracy: 0.8353 - val_loss: 0.3914 - val_accuracy: 0.7931\n",
      "Epoch 38/100\n",
      "60/60 [==============================] - 1s 9ms/step - loss: 0.3262 - accuracy: 0.8352 - val_loss: 0.3878 - val_accuracy: 0.7936\n",
      "Epoch 39/100\n",
      "60/60 [==============================] - 1s 9ms/step - loss: 0.3259 - accuracy: 0.8355 - val_loss: 0.3918 - val_accuracy: 0.7875\n",
      "Epoch 40/100\n",
      "60/60 [==============================] - 1s 10ms/step - loss: 0.3230 - accuracy: 0.8372 - val_loss: 0.3937 - val_accuracy: 0.7870\n",
      "Epoch 41/100\n",
      "60/60 [==============================] - 1s 9ms/step - loss: 0.3248 - accuracy: 0.8357 - val_loss: 0.3940 - val_accuracy: 0.7769\n",
      "Epoch 42/100\n",
      "60/60 [==============================] - 1s 9ms/step - loss: 0.3250 - accuracy: 0.8352 - val_loss: 0.3895 - val_accuracy: 0.7798\n",
      "Epoch 43/100\n",
      "60/60 [==============================] - 1s 10ms/step - loss: 0.3237 - accuracy: 0.8361 - val_loss: 0.3971 - val_accuracy: 0.7734\n",
      "Epoch 44/100\n",
      "60/60 [==============================] - 1s 9ms/step - loss: 0.3238 - accuracy: 0.8357 - val_loss: 0.3901 - val_accuracy: 0.7744\n",
      "Epoch 45/100\n",
      "60/60 [==============================] - 1s 9ms/step - loss: 0.3236 - accuracy: 0.8350 - val_loss: 0.3943 - val_accuracy: 0.7725\n",
      "Epoch 46/100\n",
      "60/60 [==============================] - 1s 9ms/step - loss: 0.3226 - accuracy: 0.8354 - val_loss: 0.3954 - val_accuracy: 0.7721\n",
      "Epoch 47/100\n",
      "60/60 [==============================] - 1s 9ms/step - loss: 0.3237 - accuracy: 0.8354 - val_loss: 0.3939 - val_accuracy: 0.7717\n",
      "Epoch 48/100\n",
      "60/60 [==============================] - 1s 9ms/step - loss: 0.3233 - accuracy: 0.8353 - val_loss: 0.3843 - val_accuracy: 0.7797\n",
      "Epoch 49/100\n",
      "60/60 [==============================] - 1s 9ms/step - loss: 0.3224 - accuracy: 0.8362 - val_loss: 0.3889 - val_accuracy: 0.7727\n",
      "Epoch 50/100\n",
      "60/60 [==============================] - 1s 9ms/step - loss: 0.3230 - accuracy: 0.8355 - val_loss: 0.3950 - val_accuracy: 0.7690\n",
      "Epoch 51/100\n",
      "60/60 [==============================] - 1s 9ms/step - loss: 0.3223 - accuracy: 0.8357 - val_loss: 0.3911 - val_accuracy: 0.7679\n",
      "Epoch 52/100\n",
      "60/60 [==============================] - 1s 9ms/step - loss: 0.3223 - accuracy: 0.8357 - val_loss: 0.3866 - val_accuracy: 0.7720\n",
      "Epoch 53/100\n",
      "60/60 [==============================] - 1s 9ms/step - loss: 0.3223 - accuracy: 0.8358 - val_loss: 0.3898 - val_accuracy: 0.7664\n",
      "Epoch 54/100\n",
      "60/60 [==============================] - 1s 9ms/step - loss: 0.3215 - accuracy: 0.8364 - val_loss: 0.3915 - val_accuracy: 0.7640\n",
      "Epoch 55/100\n",
      "60/60 [==============================] - 1s 9ms/step - loss: 0.3212 - accuracy: 0.8367 - val_loss: 0.3881 - val_accuracy: 0.7692\n",
      "Epoch 56/100\n",
      "60/60 [==============================] - 1s 9ms/step - loss: 0.3207 - accuracy: 0.8358 - val_loss: 0.3954 - val_accuracy: 0.7632\n",
      "Epoch 57/100\n",
      "60/60 [==============================] - 1s 9ms/step - loss: 0.3207 - accuracy: 0.8367 - val_loss: 0.3904 - val_accuracy: 0.7706\n",
      "Epoch 58/100\n",
      "60/60 [==============================] - 1s 9ms/step - loss: 0.3218 - accuracy: 0.8362 - val_loss: 0.3946 - val_accuracy: 0.7718\n"
     ]
    },
    {
     "name": "stdout",
     "output_type": "stream",
     "text": [
      "Epoch 59/100\n",
      "60/60 [==============================] - 1s 9ms/step - loss: 0.3216 - accuracy: 0.8363 - val_loss: 0.3871 - val_accuracy: 0.7782\n",
      "Epoch 60/100\n",
      "60/60 [==============================] - 1s 9ms/step - loss: 0.3199 - accuracy: 0.8370 - val_loss: 0.3920 - val_accuracy: 0.7654\n",
      "Epoch 61/100\n",
      "60/60 [==============================] - 1s 9ms/step - loss: 0.3210 - accuracy: 0.8358 - val_loss: 0.3919 - val_accuracy: 0.7744\n",
      "Epoch 62/100\n",
      "60/60 [==============================] - 1s 9ms/step - loss: 0.3203 - accuracy: 0.8368 - val_loss: 0.3928 - val_accuracy: 0.7662\n",
      "Epoch 63/100\n",
      "60/60 [==============================] - 1s 9ms/step - loss: 0.3212 - accuracy: 0.8361 - val_loss: 0.3823 - val_accuracy: 0.7806\n",
      "Epoch 64/100\n",
      "60/60 [==============================] - 1s 9ms/step - loss: 0.3198 - accuracy: 0.8377 - val_loss: 0.3888 - val_accuracy: 0.7746\n",
      "Epoch 65/100\n",
      "60/60 [==============================] - 1s 9ms/step - loss: 0.3213 - accuracy: 0.8366 - val_loss: 0.3976 - val_accuracy: 0.7605\n",
      "Epoch 66/100\n",
      "60/60 [==============================] - 1s 9ms/step - loss: 0.3209 - accuracy: 0.8370 - val_loss: 0.3884 - val_accuracy: 0.7773\n",
      "Epoch 67/100\n",
      "60/60 [==============================] - 1s 9ms/step - loss: 0.3215 - accuracy: 0.8366 - val_loss: 0.3973 - val_accuracy: 0.7620\n",
      "Epoch 68/100\n",
      "60/60 [==============================] - 1s 9ms/step - loss: 0.3204 - accuracy: 0.8365 - val_loss: 0.3899 - val_accuracy: 0.7724\n",
      "Epoch 69/100\n",
      "60/60 [==============================] - 1s 9ms/step - loss: 0.3206 - accuracy: 0.8363 - val_loss: 0.3875 - val_accuracy: 0.7708\n",
      "Epoch 70/100\n",
      "60/60 [==============================] - 1s 9ms/step - loss: 0.3205 - accuracy: 0.8367 - val_loss: 0.3939 - val_accuracy: 0.7635\n",
      "Epoch 71/100\n",
      "60/60 [==============================] - 1s 9ms/step - loss: 0.3204 - accuracy: 0.8362 - val_loss: 0.3925 - val_accuracy: 0.7678\n",
      "Epoch 72/100\n",
      "60/60 [==============================] - 1s 9ms/step - loss: 0.3201 - accuracy: 0.8371 - val_loss: 0.3841 - val_accuracy: 0.7750\n",
      "Epoch 73/100\n",
      "60/60 [==============================] - 1s 9ms/step - loss: 0.3194 - accuracy: 0.8377 - val_loss: 0.3815 - val_accuracy: 0.7815\n",
      "Epoch 74/100\n",
      "60/60 [==============================] - 1s 9ms/step - loss: 0.3194 - accuracy: 0.8371 - val_loss: 0.3883 - val_accuracy: 0.7694\n",
      "Epoch 75/100\n",
      "60/60 [==============================] - 1s 9ms/step - loss: 0.3196 - accuracy: 0.8374 - val_loss: 0.3859 - val_accuracy: 0.7725\n",
      "Epoch 76/100\n",
      "60/60 [==============================] - 1s 9ms/step - loss: 0.3209 - accuracy: 0.8360 - val_loss: 0.3921 - val_accuracy: 0.7659\n",
      "Epoch 77/100\n",
      "60/60 [==============================] - 1s 9ms/step - loss: 0.3188 - accuracy: 0.8382 - val_loss: 0.3898 - val_accuracy: 0.7672\n",
      "Epoch 78/100\n",
      "60/60 [==============================] - 1s 9ms/step - loss: 0.3195 - accuracy: 0.8364 - val_loss: 0.3901 - val_accuracy: 0.7678\n",
      "Epoch 79/100\n",
      "60/60 [==============================] - 1s 9ms/step - loss: 0.3209 - accuracy: 0.8357 - val_loss: 0.3869 - val_accuracy: 0.7702\n",
      "Epoch 80/100\n",
      "60/60 [==============================] - 1s 9ms/step - loss: 0.3199 - accuracy: 0.8369 - val_loss: 0.3963 - val_accuracy: 0.7614\n",
      "Epoch 81/100\n",
      "60/60 [==============================] - 1s 9ms/step - loss: 0.3202 - accuracy: 0.8365 - val_loss: 0.3915 - val_accuracy: 0.7675\n",
      "Epoch 82/100\n",
      "60/60 [==============================] - 1s 9ms/step - loss: 0.3192 - accuracy: 0.8368 - val_loss: 0.3986 - val_accuracy: 0.7608\n",
      "Epoch 83/100\n",
      "60/60 [==============================] - 1s 10ms/step - loss: 0.3193 - accuracy: 0.8367 - val_loss: 0.3911 - val_accuracy: 0.7632\n",
      "Epoch 84/100\n",
      "60/60 [==============================] - 1s 9ms/step - loss: 0.3201 - accuracy: 0.8366 - val_loss: 0.3851 - val_accuracy: 0.7745\n",
      "Epoch 85/100\n",
      "60/60 [==============================] - 1s 10ms/step - loss: 0.3189 - accuracy: 0.8375 - val_loss: 0.3888 - val_accuracy: 0.7682\n",
      "Epoch 86/100\n",
      "60/60 [==============================] - 1s 10ms/step - loss: 0.3192 - accuracy: 0.8367 - val_loss: 0.3951 - val_accuracy: 0.7627\n",
      "Epoch 87/100\n",
      "60/60 [==============================] - 1s 9ms/step - loss: 0.3201 - accuracy: 0.8364 - val_loss: 0.3789 - val_accuracy: 0.7733\n",
      "Epoch 88/100\n",
      "60/60 [==============================] - 1s 9ms/step - loss: 0.3192 - accuracy: 0.8366 - val_loss: 0.3880 - val_accuracy: 0.7706\n",
      "Epoch 89/100\n",
      "60/60 [==============================] - 1s 9ms/step - loss: 0.3198 - accuracy: 0.8364 - val_loss: 0.3849 - val_accuracy: 0.7727\n",
      "Epoch 90/100\n",
      "60/60 [==============================] - 1s 9ms/step - loss: 0.3192 - accuracy: 0.8370 - val_loss: 0.3901 - val_accuracy: 0.7652\n",
      "Epoch 91/100\n",
      "60/60 [==============================] - 1s 9ms/step - loss: 0.3213 - accuracy: 0.8360 - val_loss: 0.3975 - val_accuracy: 0.7593\n",
      "Epoch 92/100\n",
      "60/60 [==============================] - 1s 9ms/step - loss: 0.3192 - accuracy: 0.8369 - val_loss: 0.3855 - val_accuracy: 0.7713\n",
      "Epoch 93/100\n",
      "60/60 [==============================] - 1s 9ms/step - loss: 0.3193 - accuracy: 0.8371 - val_loss: 0.3945 - val_accuracy: 0.7596\n",
      "Epoch 94/100\n",
      "60/60 [==============================] - 1s 9ms/step - loss: 0.3188 - accuracy: 0.8373 - val_loss: 0.3854 - val_accuracy: 0.7693\n",
      "Epoch 95/100\n",
      "60/60 [==============================] - 1s 9ms/step - loss: 0.3189 - accuracy: 0.8372 - val_loss: 0.3884 - val_accuracy: 0.7658\n",
      "Epoch 96/100\n",
      "60/60 [==============================] - 1s 9ms/step - loss: 0.3194 - accuracy: 0.8366 - val_loss: 0.3837 - val_accuracy: 0.7697\n",
      "Epoch 97/100\n",
      "60/60 [==============================] - 1s 9ms/step - loss: 0.3178 - accuracy: 0.8372 - val_loss: 0.3859 - val_accuracy: 0.7645\n",
      "Epoch 98/100\n",
      "60/60 [==============================] - 1s 9ms/step - loss: 0.3186 - accuracy: 0.8371 - val_loss: 0.3936 - val_accuracy: 0.7581\n",
      "Epoch 99/100\n",
      "60/60 [==============================] - 1s 9ms/step - loss: 0.3195 - accuracy: 0.8367 - val_loss: 0.3883 - val_accuracy: 0.7663\n",
      "Epoch 100/100\n",
      "60/60 [==============================] - 1s 9ms/step - loss: 0.3193 - accuracy: 0.8359 - val_loss: 0.3926 - val_accuracy: 0.7590\n"
     ]
    }
   ],
   "source": [
    "from tensorflow.keras.models import Sequential\n",
    "from tensorflow.keras.layers import Dense\n",
    "\n",
    "model = Sequential()\n",
    "model.add(Dense(12, input_dim=15, activation='relu'))\n",
    "model.add(Dense(8, activation='relu'))\n",
    "model.add(Dense(2, activation='sigmoid'))\n",
    "\n",
    "model.compile(loss='sparse_categorical_crossentropy', optimizer='adam', metrics=['accuracy'])\n",
    "\n",
    "history = model.fit(X_train, y_train,validation_data = (X_test,y_test), epochs=100, batch_size=10000)"
   ]
  },
  {
   "cell_type": "markdown",
   "metadata": {},
   "source": [
    "We can plot the accurcay of train and test datadests for different epoch values and see that optimial epoch value."
   ]
  },
  {
   "cell_type": "code",
   "execution_count": 64,
   "metadata": {},
   "outputs": [
    {
     "data": {
      "image/png": "[encoded data removed]",
      "text/plain": [
       "<Figure size 432x288 with 1 Axes>"
      ]
     },
     "metadata": {
      "needs_background": "light"
     },
     "output_type": "display_data"
    }
   ],
   "source": [
    "import matplotlib.pyplot as plt\n",
    "plt.plot(history.history['accuracy'])\n",
    "plt.plot(history.history['val_accuracy'])\n",
    "plt.title('Model accuracy')\n",
    "plt.ylabel('Accuracy')\n",
    "plt.xlabel('Epoch')\n",
    "plt.legend(['Train', 'Test'], loc='upper left')\n",
    "plt.show()"
   ]
  },
  {
   "cell_type": "markdown",
   "metadata": {},
   "source": [
    "We can see that the optimal value for epoch is close to 10. After that the accuracy for test data set starts going down."
   ]
  },
  {
   "cell_type": "markdown",
   "metadata": {},
   "source": [
    "#### Roc Curve for Neural Network Model"
   ]
  },
  {
   "cell_type": "code",
   "execution_count": 65,
   "metadata": {},
   "outputs": [
    {
     "name": "stdout",
     "output_type": "stream",
     "text": [
      "Neural Network: AUC=0.883\n"
     ]
    },
    {
     "data": {
      "image/png": "[encoded data removed]",
      "text/plain": [
       "<Figure size 432x288 with 1 Axes>"
      ]
     },
     "metadata": {
      "needs_background": "light"
     },
     "output_type": "display_data"
    }
   ],
   "source": [
    "from sklearn.metrics import auc\n",
    "y_pred3 = model.predict(X_test)[:, 1]\n",
    "fpr, tpr, thresholds = roc_curve(y_test, y_pred3)\n",
    "auc = auc(fpr, tpr)\n",
    "print('Neural Network: AUC=%.3f' % (auc))\n",
    "\n",
    "plt.plot(fpr, tpr, marker='.', label='Keras Neural Network')\n",
    "plt.xlabel('False Positive Rate')\n",
    "plt.ylabel('True Positive Rate')\n",
    "plt.legend()\n",
    "plt.show()"
   ]
  },
  {
   "cell_type": "markdown",
   "metadata": {},
   "source": [
    "We can see from the roc_auc score that the performace of our model is fairly good and the model can fairly distinguish between the classes."
   ]
  },
  {
   "cell_type": "markdown",
   "metadata": {},
   "source": [
    "#### Confusion matrix"
   ]
  },
  {
   "cell_type": "code",
   "execution_count": 66,
   "metadata": {},
   "outputs": [],
   "source": [
    "# print(confusion_matrix(y_test, y_pred3))\n",
    "\n",
    "# error - \"Classification metrics can't handle a mix of binary and continuous targets\"\n",
    "# For some reason my y_pred3 predictions are float instead of binary 0,1."
   ]
  },
  {
   "cell_type": "markdown",
   "metadata": {},
   "source": [
    "#### LSTM Model"
   ]
  },
  {
   "cell_type": "code",
   "execution_count": 67,
   "metadata": {
    "scrolled": true
   },
   "outputs": [
    {
     "name": "stdout",
     "output_type": "stream",
     "text": [
      "Epoch 1/15\n",
      "6/6 [==============================] - 84s 11s/step - loss: 2.5830 - accuracy: 0.4939 - val_loss: 0.6935 - val_accuracy: 0.4591\n",
      "Epoch 2/15\n",
      "6/6 [==============================] - 56s 10s/step - loss: 0.7385 - accuracy: 0.5091 - val_loss: 0.6931 - val_accuracy: 0.4356\n",
      "Epoch 3/15\n",
      "6/6 [==============================] - 46s 7s/step - loss: 0.7015 - accuracy: 0.4922 - val_loss: 0.6931 - val_accuracy: 0.4259\n",
      "Epoch 4/15\n",
      "6/6 [==============================] - 51s 9s/step - loss: 0.6983 - accuracy: 0.4846 - val_loss: 0.6931 - val_accuracy: 0.4232\n",
      "Epoch 5/15\n",
      "6/6 [==============================] - 43s 7s/step - loss: 0.6967 - accuracy: 0.4809 - val_loss: 0.6931 - val_accuracy: 0.4232\n",
      "Epoch 6/15\n",
      "6/6 [==============================] - 40s 7s/step - loss: 0.6960 - accuracy: 0.4782 - val_loss: 0.6931 - val_accuracy: 0.4232\n",
      "Epoch 7/15\n",
      "6/6 [==============================] - 40s 7s/step - loss: 0.6956 - accuracy: 0.4759 - val_loss: 0.6931 - val_accuracy: 0.4232\n",
      "Epoch 8/15\n",
      "6/6 [==============================] - 43s 7s/step - loss: 0.6946 - accuracy: 0.4744 - val_loss: 0.6931 - val_accuracy: 0.4232\n",
      "Epoch 9/15\n",
      "6/6 [==============================] - 41s 7s/step - loss: 0.6948 - accuracy: 0.4720 - val_loss: 0.6931 - val_accuracy: 0.4232\n",
      "Epoch 10/15\n",
      "6/6 [==============================] - 43s 7s/step - loss: 0.6949 - accuracy: 0.4717 - val_loss: 0.6931 - val_accuracy: 0.4232\n",
      "Epoch 11/15\n",
      "6/6 [==============================] - 53s 9s/step - loss: 0.6945 - accuracy: 0.4693 - val_loss: 0.6931 - val_accuracy: 0.4232\n",
      "Epoch 12/15\n",
      "6/6 [==============================] - 42s 7s/step - loss: 0.6943 - accuracy: 0.4700 - val_loss: 0.6931 - val_accuracy: 0.4232\n",
      "Epoch 13/15\n",
      "6/6 [==============================] - 43s 7s/step - loss: 0.6941 - accuracy: 0.4664 - val_loss: 0.6931 - val_accuracy: 0.4232\n",
      "Epoch 14/15\n",
      "6/6 [==============================] - 41s 7s/step - loss: 0.6942 - accuracy: 0.4661 - val_loss: 0.6931 - val_accuracy: 0.4232\n",
      "Epoch 15/15\n",
      "6/6 [==============================] - 39s 7s/step - loss: 0.6939 - accuracy: 0.4648 - val_loss: 0.6931 - val_accuracy: 0.4232\n"
     ]
    }
   ],
   "source": [
    "from tensorflow.keras.models import Sequential\n",
    "from tensorflow.keras.layers import Dense, LSTM, Dropout\n",
    "import numpy as np\n",
    "\n",
    "X1_train, y1_train,X1_test,y1_test = np.array(X_train), np.array(y_train), np.array(X_test), np.array(y_test)\n",
    "X1_train = np.reshape(X1_train, (X1_train.shape[0],X1_train.shape[1],1))\n",
    "X1_test = np.reshape(X1_test, (X1_test.shape[0],X1_test.shape[1],1))\n",
    "\n",
    "model = Sequential()\n",
    "\n",
    "model.add(LSTM(units = 12, return_sequences = True, input_shape = (X1_train.shape[1], 1)))\n",
    "model.add(Dropout(0.2))\n",
    "model.add(LSTM(units = 12, return_sequences = True))\n",
    "model.add(Dropout(0.2))\n",
    "model.add(LSTM(units = 12, return_sequences = True))\n",
    "model.add(Dropout(0.2))\n",
    "model.add(LSTM(units = 12))\n",
    "model.add(Dropout(0.2))\n",
    "model.add(Dense(units = 2))\n",
    "\n",
    "model.compile(optimizer = 'adam', loss = 'sparse_categorical_crossentropy', metrics=['accuracy'])\n",
    "\n",
    "history = model.fit(X1_train, y1_train,validation_data = (X1_test,y1_test), epochs=15, batch_size=100000)"
   ]
  },
  {
   "cell_type": "markdown",
   "metadata": {},
   "source": [
    "We can plot the accurcay of train and test datadests for different epoch values and find the optimial epoch value."
   ]
  },
  {
   "cell_type": "code",
   "execution_count": 68,
   "metadata": {},
   "outputs": [
    {
     "data": {
      "image/png": "[encoded data removed]",
      "text/plain": [
       "<Figure size 432x288 with 1 Axes>"
      ]
     },
     "metadata": {
      "needs_background": "light"
     },
     "output_type": "display_data"
    }
   ],
   "source": [
    "plt.plot(history.history['accuracy'])\n",
    "plt.plot(history.history['val_accuracy'])\n",
    "plt.title('Model accuracy')\n",
    "plt.ylabel('Accuracy')\n",
    "plt.xlabel('Epoch')\n",
    "plt.legend(['Train', 'Test'], loc='upper left')\n",
    "plt.show()"
   ]
  },
  {
   "cell_type": "markdown",
   "metadata": {},
   "source": [
    "We can see that the optimal value for epoch is close to 1. After that the accuracy for test data set starts going down. We can also notice that our test accurcay is higher than our training accuracy."
   ]
  },
  {
   "cell_type": "markdown",
   "metadata": {},
   "source": [
    "#### LSTM and ROC Curve"
   ]
  },
  {
   "cell_type": "code",
   "execution_count": 69,
   "metadata": {
    "scrolled": true
   },
   "outputs": [
    {
     "name": "stdout",
     "output_type": "stream",
     "text": [
      "LSTM: AUC=0.883\n"
     ]
    },
    {
     "data": {
      "image/png": "[encoded data removed]",
      "text/plain": [
       "<Figure size 432x288 with 1 Axes>"
      ]
     },
     "metadata": {
      "needs_background": "light"
     },
     "output_type": "display_data"
    }
   ],
   "source": [
    "from sklearn.metrics import auc\n",
    "\n",
    "y_pred4 = model.predict(X1_test)[:, 1]\n",
    "fpr2, tpr2, thresholds2 = roc_curve(y1_test, y_pred4)\n",
    "auc_keras= auc(fpr, tpr)\n",
    "print('LSTM: AUC=%.3f' % (auc_keras))\n",
    "\n",
    "plt.plot(fpr, tpr, marker='.', label='LSTM')\n",
    "plt.xlabel('False Positive Rate')\n",
    "plt.ylabel('True Positive Rate')\n",
    "plt.legend()\n",
    "plt.show()"
   ]
  },
  {
   "cell_type": "markdown",
   "metadata": {},
   "source": [
    "We can see that the roc_score is very low which is a bad sign and means that our model cannot distinguish between classes properly."
   ]
  },
  {
   "cell_type": "markdown",
   "metadata": {},
   "source": [
    "#### Confusion matrix"
   ]
  },
  {
   "cell_type": "code",
   "execution_count": 70,
   "metadata": {},
   "outputs": [],
   "source": [
    "# print(confusion_matrix(y1_test, y_pred4))"
   ]
  },
  {
   "cell_type": "markdown",
   "metadata": {},
   "source": [
    "#### All ROC Curves on One Graph"
   ]
  },
  {
   "cell_type": "code",
   "execution_count": 71,
   "metadata": {},
   "outputs": [
    {
     "data": {
      "image/png": "[encoded data removed]",
      "text/plain": [
       "<Figure size 432x288 with 1 Axes>"
      ]
     },
     "metadata": {
      "needs_background": "light"
     },
     "output_type": "display_data"
    }
   ],
   "source": [
    "lr_fpr, lr_tpr, _ = roc_curve(y_test, lr_probs)\n",
    "plt.plot(lr_fpr, lr_tpr, marker='.', label='Logistic')\n",
    "\n",
    "rfr_fpr, rfr_tpr, _ = roc_curve(y_test, rfr_probs)\n",
    "plt.plot(rfr_fpr, rfr_tpr, marker='.', label='Random Forest Regression')\n",
    "\n",
    "fpr, tpr, thresholds = roc_curve(y_test, y_pred3)\n",
    "plt.plot(fpr, tpr, marker='.', label='Keras Neural Network')\n",
    "\n",
    "fpr2, tpr2, thresholds2 = roc_curve(y1_test, y_pred4)\n",
    "plt.plot(fpr, tpr, marker='.', label='LSTM')\n",
    "\n",
    "plt.xlabel('False Positive Rate')\n",
    "plt.ylabel('True Positive Rate')\n",
    "plt.legend([\"Logistic Regression\", \"Random Forest Classifier\",\"Neural Network\", \"LSTM\"])\n",
    "plt.show()"
   ]
  },
  {
   "cell_type": "markdown",
   "metadata": {},
   "source": [
    "From the ROC curve, we can tell that our Random forest Classifier can distinguish between classes better than any other models that we have. Logistic regression performs the least amount."
   ]
  },
  {
   "cell_type": "code",
   "execution_count": 72,
   "metadata": {},
   "outputs": [
    {
     "name": "stderr",
     "output_type": "stream",
     "text": [
      "100%|===================| 428375/430288 [02:50<00:00]        "
     ]
    }
   ],
   "source": [
    "import shap\n",
    "\n",
    "explainer = shap.Explainer(rfr, X_test)\n",
    "shap_values = explainer(X_test)"
   ]
  },
  {
   "cell_type": "code",
   "execution_count": 73,
   "metadata": {},
   "outputs": [
    {
     "ename": "ValueError",
     "evalue": "The beeswarm plot does not support plotting explanations with instances that have more than one dimension!",
     "output_type": "error",
     "traceback": [
      "\u001b[0;31m---------------------------------------------------------------------------\u001b[0m",
      "\u001b[0;31mValueError\u001b[0m                                Traceback (most recent call last)",
      "\u001b[0;32m<ipython-input-73-4ccb139db3a6>\u001b[0m in \u001b[0;36m<module>\u001b[0;34m\u001b[0m\n\u001b[0;32m----> 1\u001b[0;31m \u001b[0mshap\u001b[0m\u001b[0;34m.\u001b[0m\u001b[0mplots\u001b[0m\u001b[0;34m.\u001b[0m\u001b[0mbeeswarm\u001b[0m\u001b[0;34m(\u001b[0m\u001b[0mshap_values\u001b[0m \u001b[0;34m)\u001b[0m\u001b[0;34m\u001b[0m\u001b[0;34m\u001b[0m\u001b[0m\n\u001b[0m\u001b[1;32m      2\u001b[0m \u001b[0;31m# For some reason I was getting errors in this step. So I couln't visualize the beeswarm plot.\u001b[0m\u001b[0;34m\u001b[0m\u001b[0;34m\u001b[0m\u001b[0;34m\u001b[0m\u001b[0m\n",
      "\u001b[0;32m~/.local/lib/python3.8/site-packages/shap/plots/_beeswarm.py\u001b[0m in \u001b[0;36mbeeswarm\u001b[0;34m(shap_values, max_display, order, clustering, cluster_threshold, color, axis_color, alpha, show, log_scale, color_bar, plot_size, color_bar_label)\u001b[0m\n\u001b[1;32m     51\u001b[0m             )\n\u001b[1;32m     52\u001b[0m         \u001b[0;32melif\u001b[0m \u001b[0mlen\u001b[0m\u001b[0;34m(\u001b[0m\u001b[0mshap_values\u001b[0m\u001b[0;34m.\u001b[0m\u001b[0mshape\u001b[0m\u001b[0;34m)\u001b[0m \u001b[0;34m>\u001b[0m \u001b[0;36m2\u001b[0m\u001b[0;34m:\u001b[0m\u001b[0;34m\u001b[0m\u001b[0;34m\u001b[0m\u001b[0m\n\u001b[0;32m---> 53\u001b[0;31m             raise ValueError(\n\u001b[0m\u001b[1;32m     54\u001b[0m                 \u001b[0;34m\"The beeswarm plot does not support plotting explanations with instances that have more \"\u001b[0m\u001b[0;34m\u001b[0m\u001b[0;34m\u001b[0m\u001b[0m\n\u001b[1;32m     55\u001b[0m                 \u001b[0;34m\"than one dimension!\"\u001b[0m\u001b[0;34m\u001b[0m\u001b[0;34m\u001b[0m\u001b[0m\n",
      "\u001b[0;31mValueError\u001b[0m: The beeswarm plot does not support plotting explanations with instances that have more than one dimension!"
     ]
    }
   ],
   "source": [
    "shap.plots.beeswarm(shap_values )\n",
    "# For some reason I was getting errors in this step. So I couln't visualize the beeswarm plot."
   ]
  },
  {
   "cell_type": "markdown",
   "metadata": {},
   "source": [
    "Different interpretability methods didn't provide the same results. After watching both coef_ and feature_importance_ graphs, I am noticing that the first is prioritizing positively correlated features and the second one is prioritizing negatively correlated features"
   ]
  },
  {
   "cell_type": "markdown",
   "metadata": {},
   "source": [
    "### Conclusion"
   ]
  },
  {
   "cell_type": "markdown",
   "metadata": {},
   "source": [
    "If I had more time, i would have definitely tuned with the feature sets more. Some of the features may not be necessary. I would have done some correlation calculation to find out the important features. I would find ways to improve the lag features as well."
   ]
  }
 ],
 "metadata": {
  "kernelspec": {
   "display_name": "Python 3",
   "language": "python",
   "name": "python3"
  },
  "language_info": {
   "codemirror_mode": {
    "name": "ipython",
    "version": 3
   },
   "file_extension": ".py",
   "mimetype": "text/x-python",
   "name": "python",
   "nbconvert_exporter": "python",
   "pygments_lexer": "ipython3",
   "version": "3.8.5"
  }
 },
 "nbformat": 4,
 "nbformat_minor": 4
}
